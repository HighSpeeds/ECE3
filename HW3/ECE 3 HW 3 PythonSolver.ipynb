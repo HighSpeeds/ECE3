{
 "cells": [
  {
   "cell_type": "code",
   "execution_count": 1,
   "id": "03c5c3ea",
   "metadata": {},
   "outputs": [],
   "source": [
    "import numpy as np"
   ]
  },
  {
   "cell_type": "markdown",
   "id": "7702aba3",
   "metadata": {},
   "source": [
    "## $V_4$ as the Ground Node\n",
    "From KCL we get\n",
    "$$\\frac{16-V_1}{5}+\\frac{V_3-V_1}{7}=1$$\n",
    "$$0.5=\\frac{V_3-V_1}{7}+\\frac{V_3}{6}$$\n",
    "Solving these equations with numpy we get"
   ]
  },
  {
   "cell_type": "code",
   "execution_count": 7,
   "id": "ad519563",
   "metadata": {},
   "outputs": [
    {
     "name": "stdout",
     "output_type": "stream",
     "text": [
      "V_1=8.778V\n",
      "V_3=5.667V\n"
     ]
    }
   ],
   "source": [
    "V_1,V_3=np.round(np.dot(np.linalg.inv([[-1/5-1/7,1/7],\n",
    "              [-1/7,1/7+1/6]]),[1-16/5,1/2]),3)\n",
    "print(f\"V_1={V_1}V\")\n",
    "print(f\"V_3={V_3}V\")"
   ]
  },
  {
   "cell_type": "markdown",
   "id": "78ed3de2",
   "metadata": {},
   "source": [
    "We have that the current flowing into $V_4$ is \n",
    "$$1+\\frac{V_3}{6}$$\n",
    "which is"
   ]
  },
  {
   "cell_type": "code",
   "execution_count": 11,
   "id": "573142e2",
   "metadata": {},
   "outputs": [
    {
     "name": "stdout",
     "output_type": "stream",
     "text": [
      "1+V_3/6=1.945A\n"
     ]
    }
   ],
   "source": [
    "print(f\"1+V_3/6={np.round(1+V_3/6,3)}A\")"
   ]
  },
  {
   "cell_type": "markdown",
   "id": "14e0c8bf",
   "metadata": {},
   "source": [
    "Therefore this must be magnitude of the current flowing across the battery, flowing from $V_4$ to $V_2$, but just to double check, lets compute the current flowing out from $V_2$ which is given by the equation\n",
    "$$\\frac{16-V_1}{5}+0.5$$"
   ]
  },
  {
   "cell_type": "code",
   "execution_count": 14,
   "id": "ec0b2210",
   "metadata": {},
   "outputs": [
    {
     "name": "stdout",
     "output_type": "stream",
     "text": [
      "(16-V_1)/5+0.5=1.9444A\n"
     ]
    }
   ],
   "source": [
    "print(f\"(16-V_1)/5+0.5={(16-V_1)/5+0.5}A\")"
   ]
  },
  {
   "cell_type": "markdown",
   "id": "95e5c0d4",
   "metadata": {},
   "source": [
    "So we have the correct computations! (There are some errors due to rounding, since I rounded $V_1$ and $V_3$ before doing these computations)"
   ]
  },
  {
   "cell_type": "markdown",
   "id": "1053587e",
   "metadata": {},
   "source": [
    "## V_2 as the Ground Node"
   ]
  },
  {
   "cell_type": "markdown",
   "id": "d9af5d02",
   "metadata": {},
   "source": [
    "If V_2 is the ground node, then we must have that $V_4=-16V$, and we will from KCL have the following equations for $V_1$ and $V_3$\n",
    "\n",
    "$$\\frac{-V_1}{5}+\\frac{V_3-V_1}{7}=1$$\n",
    "$$0.5=\\frac{V_3-V_1}{7}+\\frac{V_3+16}{6}$$\n",
    "Solving these equations with numpy we get"
   ]
  },
  {
   "cell_type": "code",
   "execution_count": 19,
   "id": "acfdc4a2",
   "metadata": {},
   "outputs": [
    {
     "name": "stdout",
     "output_type": "stream",
     "text": [
      "V_1=-7.222V\n",
      "V_3=-10.333V\n"
     ]
    }
   ],
   "source": [
    "V_1,V_3=np.round(np.dot(np.linalg.inv([[-1/5-1/7,1/7],\n",
    "              [-1/7,1/7+1/6]]),[1,1/2-16/6]),3)\n",
    "print(f\"V_1={V_1}V\")\n",
    "print(f\"V_3={V_3}V\")"
   ]
  },
  {
   "cell_type": "markdown",
   "id": "2fac0e50",
   "metadata": {},
   "source": [
    "We have that the current flowing into $V_4$ is \n",
    "$$1+\\frac{V_3+16}{6}$$\n",
    "which is"
   ]
  },
  {
   "cell_type": "code",
   "execution_count": 21,
   "id": "fdfb0b59",
   "metadata": {},
   "outputs": [
    {
     "name": "stdout",
     "output_type": "stream",
     "text": [
      "1+(V_3+16)/6=1.945A\n"
     ]
    }
   ],
   "source": [
    "print(f\"1+(V_3+16)/6={np.round(1+(V_3+16)/6,3)}A\")"
   ]
  },
  {
   "cell_type": "markdown",
   "id": "ec38a87d",
   "metadata": {},
   "source": [
    "Therefore this must be magnitude of the current flowing across the battery, flowing from $V_4$ to $V_2$, but just to double check, lets compute the current flowing out from $V_2$ which is given by the equation\n",
    "$$\\frac{-V_1}{5}+0.5$$"
   ]
  },
  {
   "cell_type": "code",
   "execution_count": 23,
   "id": "e96429c4",
   "metadata": {},
   "outputs": [
    {
     "name": "stdout",
     "output_type": "stream",
     "text": [
      "-V_1/5+0.5=1.944A\n"
     ]
    }
   ],
   "source": [
    "print(f\"-V_1/5+0.5={np.round((-V_1)/5+0.5,3)}A\")"
   ]
  },
  {
   "cell_type": "markdown",
   "id": "ec2d8eb5",
   "metadata": {},
   "source": [
    "So we have the correct computations! (There are some errors due to rounding, since I rounded $V_1$ and $V_3$ before doing these computations)"
   ]
  }
 ],
 "metadata": {
  "kernelspec": {
   "display_name": "Python 3 (ipykernel)",
   "language": "python",
   "name": "python3"
  },
  "language_info": {
   "codemirror_mode": {
    "name": "ipython",
    "version": 3
   },
   "file_extension": ".py",
   "mimetype": "text/x-python",
   "name": "python",
   "nbconvert_exporter": "python",
   "pygments_lexer": "ipython3",
   "version": "3.9.7"
  }
 },
 "nbformat": 4,
 "nbformat_minor": 5
}
