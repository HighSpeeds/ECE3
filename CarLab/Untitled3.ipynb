{
 "cells": [
  {
   "cell_type": "code",
   "execution_count": 1,
   "id": "9bdd487c",
   "metadata": {},
   "outputs": [],
   "source": [
    "from carUtils import *\n",
    "from linesUtils import *\n",
    "from env import *"
   ]
  },
  {
   "cell_type": "code",
   "execution_count": 56,
   "id": "a72964a1",
   "metadata": {},
   "outputs": [],
   "source": [
    "from collections import namedtuple, deque\n",
    "from itertools import count\n",
    "import random\n",
    "import os\n",
    "import tqdm\n",
    "\n",
    "import torch\n",
    "import torch.nn as nn\n",
    "import torch.optim as optim\n",
    "import torch.nn.functional as F\n",
    "import torchvision.transforms as T\n",
    "\n",
    "# if gpu is to be used\n",
    "device = torch.device(\"cuda\" if torch.cuda.is_available() else \"cpu\")"
   ]
  },
  {
   "cell_type": "markdown",
   "id": "6b9a8c89",
   "metadata": {},
   "source": [
    "### Config"
   ]
  },
  {
   "cell_type": "code",
   "execution_count": 3,
   "id": "bf79133a",
   "metadata": {},
   "outputs": [],
   "source": [
    "GAMMA=0.9\n",
    "SEED=42\n",
    "BATCH_SIZE=40\n",
    "TARGET_UPDATE = 1\n",
    "\n",
    "random.seed(SEED)\n",
    "torch.manual_seed(SEED)\n",
    "np.random.seed(SEED)\n",
    "\n",
    "\n",
    "\n",
    "criterion = nn.SmoothL1Loss()\n",
    "\n",
    "env=Env()"
   ]
  },
  {
   "cell_type": "code",
   "execution_count": 4,
   "id": "e3097286",
   "metadata": {},
   "outputs": [],
   "source": [
    "def computeReward(env):\n",
    "    \"\"\"\n",
    "    right now we are going to use a simple reward of the deviation from the line, well the negative of it\n",
    "    \"\"\"\n",
    "    return -10*env.distance_from_track()+env.distance_from_start()-env.distance_from_end()"
   ]
  },
  {
   "cell_type": "markdown",
   "id": "f34202df",
   "metadata": {},
   "source": [
    "### Set up possible actions"
   ]
  },
  {
   "cell_type": "code",
   "execution_count": 5,
   "id": "28d3d774",
   "metadata": {},
   "outputs": [
    {
     "data": {
      "text/plain": [
       "array([[-60., -60.],\n",
       "       [-60.,  60.],\n",
       "       [ 60., -60.],\n",
       "       [ 60.,  60.]])"
      ]
     },
     "execution_count": 5,
     "metadata": {},
     "output_type": "execute_result"
    }
   ],
   "source": [
    "possible_motor_percentages=[-60,60]\n",
    "actions_to_MotorPer=np.empty((len(possible_motor_percentages)**2,2))\n",
    "for i in range(len(possible_motor_percentages)):\n",
    "    for j in range(len(possible_motor_percentages)):\n",
    "        actions_to_MotorPer[i*len(possible_motor_percentages)+j]=[possible_motor_percentages[i],\n",
    "                                                                 possible_motor_percentages[j]]\n",
    "actions_to_MotorPer"
   ]
  },
  {
   "cell_type": "markdown",
   "id": "c0d7a25b",
   "metadata": {},
   "source": [
    "## set up models"
   ]
  },
  {
   "cell_type": "code",
   "execution_count": 6,
   "id": "467cdd62",
   "metadata": {},
   "outputs": [],
   "source": [
    "class DQN(nn.Module):\n",
    "    def __init__(self, n_output_states):\n",
    "        super(DQN, self).__init__()\n",
    "        self.f1=nn.Linear(8,n_output_states)\n",
    "        \n",
    "    def forward(self,x):\n",
    "        return self.f1(x)"
   ]
  },
  {
   "cell_type": "code",
   "execution_count": 7,
   "id": "8c7cfaaf",
   "metadata": {},
   "outputs": [],
   "source": [
    "def copy_params(policy_net,target_net):\n",
    "    target_net.load_state_dict(policy_net.state_dict())\n",
    "    target_net.eval()"
   ]
  },
  {
   "cell_type": "code",
   "execution_count": 8,
   "id": "87868ed8",
   "metadata": {},
   "outputs": [],
   "source": [
    "n_actions=actions_to_MotorPer.shape[0]\n",
    "\n",
    "policy_net = DQN(n_actions).to(device)\n",
    "target_net = DQN(n_actions).to(device)\n",
    "copy_params(policy_net,target_net)\n",
    "\n",
    "optimizer = optim.RMSprop(policy_net.parameters())"
   ]
  },
  {
   "cell_type": "code",
   "execution_count": 9,
   "id": "5dbc327f",
   "metadata": {},
   "outputs": [],
   "source": [
    "def select_action(state,p_random=0.5):\n",
    "    sample = np.random.random()\n",
    "    if sample > p_random:\n",
    "        with torch.no_grad():\n",
    "            # t.max(1) will return largest column value of each row.\n",
    "            # second column on max result is index of where max element was\n",
    "            # found, so we pick action with the larger expected reward.\n",
    "            #print(policy_net(state))\n",
    "            return torch.argmax(policy_net(state)).reshape((1,1))\n",
    "    else:\n",
    "        return torch.tensor([[np.random.randint(n_actions)]], device=device, dtype=torch.long)"
   ]
  },
  {
   "cell_type": "markdown",
   "id": "0dfd8e1d",
   "metadata": {},
   "source": [
    "### Memory"
   ]
  },
  {
   "cell_type": "code",
   "execution_count": 10,
   "id": "0acfd15a",
   "metadata": {},
   "outputs": [],
   "source": [
    "class Memory:\n",
    "    def __init__(self,max_size=1000):\n",
    "        self.states=[]\n",
    "        self.next_states=[]\n",
    "        self.rewards=[]\n",
    "        self.actions=[]\n",
    "        self.max_size=max_size\n",
    "        \n",
    "    def push(self,state,action,next_state,reward):\n",
    "        \n",
    "        if len(self)==self.max_size:\n",
    "            self.states=[]\n",
    "            self.next_states=[]\n",
    "            self.rewards=[]\n",
    "            self.actions=[]\n",
    "        self.states.append(state)\n",
    "        self.next_states.append(next_state)\n",
    "        self.rewards.append(reward)\n",
    "        self.actions.append(action)\n",
    "        \n",
    "    def sample(self,n_samples):\n",
    "        paired=list(zip(self.states, self.next_states, self.rewards,self.actions))\n",
    "        states,next_states,rewards,actions=zip(*random.sample(paired, n_samples))\n",
    "        \n",
    "        states=torch.stack(states).to(device)\n",
    "#         next_states=torch.stack(next_states).to(device)\n",
    "        rewards=torch.stack(rewards).to(device)\n",
    "        #print(rewards.shape)\n",
    "        actions=torch.stack(actions).to(device).squeeze((-1))\n",
    "#         print(actions.shape)\n",
    "        return states,next_states,rewards,actions\n",
    "        \n",
    "    def __len__(self):\n",
    "        return len(self.states)\n",
    "\n",
    "memory=Memory()"
   ]
  },
  {
   "cell_type": "code",
   "execution_count": 11,
   "id": "29ab63d2",
   "metadata": {},
   "outputs": [],
   "source": [
    "def optimize_model():\n",
    "    \n",
    "    if len(memory) < BATCH_SIZE:\n",
    "        return\n",
    "    #print(\"optimizing\")\n",
    "    states,next_states,rewards,actions = memory.sample(BATCH_SIZE)\n",
    "    \n",
    "    # Compute a mask of non-final states and concatenate the batch elements\n",
    "    # (a final state would've been the one after which simulation ended)\n",
    "    non_final_mask = torch.tensor(tuple(map(lambda s: s is not None,\n",
    "                                          next_states)), device=device, dtype=torch.bool)\n",
    "    non_final_next_states = torch.stack([s for s in next_states\n",
    "                                                if s is not None])\n",
    "\n",
    "\n",
    "    # Compute Q(s_t, a) - the model computes Q(s_t), then we select the\n",
    "    # columns of actions taken. These are the actions which would've been taken\n",
    "    # for each batch state according to policy_net\n",
    "#     print(states.shape)\n",
    "#     print(actions.shape)\n",
    "    state_action_values = policy_net(states).gather(1, actions)\n",
    "    # Compute V(s_{t+1}) for all next states.\n",
    "    # Expected values of actions for non_final_next_states are computed based\n",
    "    # on the \"older\" target_net; selecting their best reward with max(1)[0].\n",
    "    # This is merged based on the mask, such that we'll have either the expected\n",
    "    # state value or 0 in case the state was final.\n",
    "    next_state_values = torch.zeros(BATCH_SIZE, device=device)\n",
    "    #print(non_final_next_states.shape)\n",
    "    next_state_values[non_final_mask] = target_net(non_final_next_states).max(1)[0].detach()\n",
    "    # Compute the expected Q values\n",
    "\n",
    "    expected_state_action_values = (next_state_values * GAMMA) + rewards.squeeze(-1)\n",
    "\n",
    "    # Compute Huber loss\n",
    "    loss = criterion(state_action_values, expected_state_action_values.unsqueeze(1))\n",
    "\n",
    "    # Optimize the model\n",
    "    optimizer.zero_grad()\n",
    "    loss.backward()\n",
    "    for param in policy_net.parameters():\n",
    "        param.grad.data.clamp_(-1, 1)\n",
    "    optimizer.step()\n",
    "    \n",
    "    "
   ]
  },
  {
   "cell_type": "code",
   "execution_count": 12,
   "id": "6564d32e",
   "metadata": {},
   "outputs": [
    {
     "name": "stdout",
     "output_type": "stream",
     "text": [
      "breaking\n",
      "breaking\n",
      "breaking\n",
      "breaking\n",
      "breaking\n",
      "breaking\n",
      "breaking\n",
      "breaking\n",
      "breaking\n",
      "breaking\n",
      "breaking\n",
      "breaking\n",
      "breaking\n",
      "breaking\n",
      "breaking\n",
      "breaking\n",
      "breaking\n",
      "breaking\n",
      "breaking\n",
      "breaking\n",
      "breaking\n",
      "breaking\n",
      "breaking\n",
      "breaking\n",
      "breaking\n"
     ]
    },
    {
     "ename": "KeyboardInterrupt",
     "evalue": "",
     "output_type": "error",
     "traceback": [
      "\u001b[0;31m---------------------------------------------------------------------------\u001b[0m",
      "\u001b[0;31mKeyboardInterrupt\u001b[0m                         Traceback (most recent call last)",
      "\u001b[0;32m/tmp/ipykernel_22416/3474540676.py\u001b[0m in \u001b[0;36m<module>\u001b[0;34m\u001b[0m\n\u001b[1;32m     38\u001b[0m         \u001b[0;31m#print(f\"carX={env.car.X}, carY={env.car.Y}, t={t}\")\u001b[0m\u001b[0;34m\u001b[0m\u001b[0;34m\u001b[0m\u001b[0m\n\u001b[1;32m     39\u001b[0m         \u001b[0;31m# Perform one step of the optimization (on the policy network)\u001b[0m\u001b[0;34m\u001b[0m\u001b[0;34m\u001b[0m\u001b[0m\n\u001b[0;32m---> 40\u001b[0;31m         \u001b[0moptimize_model\u001b[0m\u001b[0;34m(\u001b[0m\u001b[0;34m)\u001b[0m\u001b[0;34m\u001b[0m\u001b[0;34m\u001b[0m\u001b[0m\n\u001b[0m\u001b[1;32m     41\u001b[0m         \u001b[0;32mif\u001b[0m \u001b[0mdone\u001b[0m\u001b[0;34m:\u001b[0m\u001b[0;34m\u001b[0m\u001b[0;34m\u001b[0m\u001b[0m\n\u001b[1;32m     42\u001b[0m             \u001b[0mprint\u001b[0m\u001b[0;34m(\u001b[0m\u001b[0;34m\"breaking\"\u001b[0m\u001b[0;34m)\u001b[0m\u001b[0;34m\u001b[0m\u001b[0;34m\u001b[0m\u001b[0m\n",
      "\u001b[0;32m/tmp/ipykernel_22416/4032977185.py\u001b[0m in \u001b[0;36moptimize_model\u001b[0;34m()\u001b[0m\n\u001b[1;32m     38\u001b[0m     \u001b[0moptimizer\u001b[0m\u001b[0;34m.\u001b[0m\u001b[0mzero_grad\u001b[0m\u001b[0;34m(\u001b[0m\u001b[0;34m)\u001b[0m\u001b[0;34m\u001b[0m\u001b[0;34m\u001b[0m\u001b[0m\n\u001b[1;32m     39\u001b[0m     \u001b[0mloss\u001b[0m\u001b[0;34m.\u001b[0m\u001b[0mbackward\u001b[0m\u001b[0;34m(\u001b[0m\u001b[0;34m)\u001b[0m\u001b[0;34m\u001b[0m\u001b[0;34m\u001b[0m\u001b[0m\n\u001b[0;32m---> 40\u001b[0;31m     \u001b[0;32mfor\u001b[0m \u001b[0mparam\u001b[0m \u001b[0;32min\u001b[0m \u001b[0mpolicy_net\u001b[0m\u001b[0;34m.\u001b[0m\u001b[0mparameters\u001b[0m\u001b[0;34m(\u001b[0m\u001b[0;34m)\u001b[0m\u001b[0;34m:\u001b[0m\u001b[0;34m\u001b[0m\u001b[0;34m\u001b[0m\u001b[0m\n\u001b[0m\u001b[1;32m     41\u001b[0m         \u001b[0mparam\u001b[0m\u001b[0;34m.\u001b[0m\u001b[0mgrad\u001b[0m\u001b[0;34m.\u001b[0m\u001b[0mdata\u001b[0m\u001b[0;34m.\u001b[0m\u001b[0mclamp_\u001b[0m\u001b[0;34m(\u001b[0m\u001b[0;34m-\u001b[0m\u001b[0;36m1\u001b[0m\u001b[0;34m,\u001b[0m \u001b[0;36m1\u001b[0m\u001b[0;34m)\u001b[0m\u001b[0;34m\u001b[0m\u001b[0;34m\u001b[0m\u001b[0m\n\u001b[1;32m     42\u001b[0m     \u001b[0moptimizer\u001b[0m\u001b[0;34m.\u001b[0m\u001b[0mstep\u001b[0m\u001b[0;34m(\u001b[0m\u001b[0;34m)\u001b[0m\u001b[0;34m\u001b[0m\u001b[0;34m\u001b[0m\u001b[0m\n",
      "\u001b[0;32m~/anaconda3/lib/python3.9/site-packages/torch/nn/modules/module.py\u001b[0m in \u001b[0;36mparameters\u001b[0;34m(self, recurse)\u001b[0m\n\u001b[1;32m   1533\u001b[0m \u001b[0;34m\u001b[0m\u001b[0m\n\u001b[1;32m   1534\u001b[0m         \"\"\"\n\u001b[0;32m-> 1535\u001b[0;31m         \u001b[0;32mfor\u001b[0m \u001b[0mname\u001b[0m\u001b[0;34m,\u001b[0m \u001b[0mparam\u001b[0m \u001b[0;32min\u001b[0m \u001b[0mself\u001b[0m\u001b[0;34m.\u001b[0m\u001b[0mnamed_parameters\u001b[0m\u001b[0;34m(\u001b[0m\u001b[0mrecurse\u001b[0m\u001b[0;34m=\u001b[0m\u001b[0mrecurse\u001b[0m\u001b[0;34m)\u001b[0m\u001b[0;34m:\u001b[0m\u001b[0;34m\u001b[0m\u001b[0;34m\u001b[0m\u001b[0m\n\u001b[0m\u001b[1;32m   1536\u001b[0m             \u001b[0;32myield\u001b[0m \u001b[0mparam\u001b[0m\u001b[0;34m\u001b[0m\u001b[0;34m\u001b[0m\u001b[0m\n\u001b[1;32m   1537\u001b[0m \u001b[0;34m\u001b[0m\u001b[0m\n",
      "\u001b[0;32m~/anaconda3/lib/python3.9/site-packages/torch/nn/modules/module.py\u001b[0m in \u001b[0;36mnamed_parameters\u001b[0;34m(self, prefix, recurse)\u001b[0m\n\u001b[1;32m   1559\u001b[0m             \u001b[0;32mlambda\u001b[0m \u001b[0mmodule\u001b[0m\u001b[0;34m:\u001b[0m \u001b[0mmodule\u001b[0m\u001b[0;34m.\u001b[0m\u001b[0m_parameters\u001b[0m\u001b[0;34m.\u001b[0m\u001b[0mitems\u001b[0m\u001b[0;34m(\u001b[0m\u001b[0;34m)\u001b[0m\u001b[0;34m,\u001b[0m\u001b[0;34m\u001b[0m\u001b[0;34m\u001b[0m\u001b[0m\n\u001b[1;32m   1560\u001b[0m             prefix=prefix, recurse=recurse)\n\u001b[0;32m-> 1561\u001b[0;31m         \u001b[0;32mfor\u001b[0m \u001b[0melem\u001b[0m \u001b[0;32min\u001b[0m \u001b[0mgen\u001b[0m\u001b[0;34m:\u001b[0m\u001b[0;34m\u001b[0m\u001b[0;34m\u001b[0m\u001b[0m\n\u001b[0m\u001b[1;32m   1562\u001b[0m             \u001b[0;32myield\u001b[0m \u001b[0melem\u001b[0m\u001b[0;34m\u001b[0m\u001b[0;34m\u001b[0m\u001b[0m\n\u001b[1;32m   1563\u001b[0m \u001b[0;34m\u001b[0m\u001b[0m\n",
      "\u001b[0;32m~/anaconda3/lib/python3.9/site-packages/torch/nn/modules/module.py\u001b[0m in \u001b[0;36m_named_members\u001b[0;34m(self, get_members_fn, prefix, recurse)\u001b[0m\n\u001b[1;32m   1506\u001b[0m             \u001b[0mmembers\u001b[0m \u001b[0;34m=\u001b[0m \u001b[0mget_members_fn\u001b[0m\u001b[0;34m(\u001b[0m\u001b[0mmodule\u001b[0m\u001b[0;34m)\u001b[0m\u001b[0;34m\u001b[0m\u001b[0;34m\u001b[0m\u001b[0m\n\u001b[1;32m   1507\u001b[0m             \u001b[0;32mfor\u001b[0m \u001b[0mk\u001b[0m\u001b[0;34m,\u001b[0m \u001b[0mv\u001b[0m \u001b[0;32min\u001b[0m \u001b[0mmembers\u001b[0m\u001b[0;34m:\u001b[0m\u001b[0;34m\u001b[0m\u001b[0;34m\u001b[0m\u001b[0m\n\u001b[0;32m-> 1508\u001b[0;31m                 \u001b[0;32mif\u001b[0m \u001b[0mv\u001b[0m \u001b[0;32mis\u001b[0m \u001b[0;32mNone\u001b[0m \u001b[0;32mor\u001b[0m \u001b[0mv\u001b[0m \u001b[0;32min\u001b[0m \u001b[0mmemo\u001b[0m\u001b[0;34m:\u001b[0m\u001b[0;34m\u001b[0m\u001b[0;34m\u001b[0m\u001b[0m\n\u001b[0m\u001b[1;32m   1509\u001b[0m                     \u001b[0;32mcontinue\u001b[0m\u001b[0;34m\u001b[0m\u001b[0;34m\u001b[0m\u001b[0m\n\u001b[1;32m   1510\u001b[0m                 \u001b[0mmemo\u001b[0m\u001b[0;34m.\u001b[0m\u001b[0madd\u001b[0m\u001b[0;34m(\u001b[0m\u001b[0mv\u001b[0m\u001b[0;34m)\u001b[0m\u001b[0;34m\u001b[0m\u001b[0;34m\u001b[0m\u001b[0m\n",
      "\u001b[0;32m~/anaconda3/lib/python3.9/site-packages/torch/_tensor.py\u001b[0m in \u001b[0;36m__hash__\u001b[0;34m(self)\u001b[0m\n\u001b[1;32m    704\u001b[0m         \u001b[0;32mreturn\u001b[0m \u001b[0miter\u001b[0m\u001b[0;34m(\u001b[0m\u001b[0mself\u001b[0m\u001b[0;34m.\u001b[0m\u001b[0munbind\u001b[0m\u001b[0;34m(\u001b[0m\u001b[0;36m0\u001b[0m\u001b[0;34m)\u001b[0m\u001b[0;34m)\u001b[0m\u001b[0;34m\u001b[0m\u001b[0;34m\u001b[0m\u001b[0m\n\u001b[1;32m    705\u001b[0m \u001b[0;34m\u001b[0m\u001b[0m\n\u001b[0;32m--> 706\u001b[0;31m     \u001b[0;32mdef\u001b[0m \u001b[0m__hash__\u001b[0m\u001b[0;34m(\u001b[0m\u001b[0mself\u001b[0m\u001b[0;34m)\u001b[0m\u001b[0;34m:\u001b[0m\u001b[0;34m\u001b[0m\u001b[0;34m\u001b[0m\u001b[0m\n\u001b[0m\u001b[1;32m    707\u001b[0m         \u001b[0;32mif\u001b[0m \u001b[0mhas_torch_function_unary\u001b[0m\u001b[0;34m(\u001b[0m\u001b[0mself\u001b[0m\u001b[0;34m)\u001b[0m\u001b[0;34m:\u001b[0m\u001b[0;34m\u001b[0m\u001b[0;34m\u001b[0m\u001b[0m\n\u001b[1;32m    708\u001b[0m             \u001b[0;32mreturn\u001b[0m \u001b[0mhandle_torch_function\u001b[0m\u001b[0;34m(\u001b[0m\u001b[0mTensor\u001b[0m\u001b[0;34m.\u001b[0m\u001b[0m__hash__\u001b[0m\u001b[0;34m,\u001b[0m \u001b[0;34m(\u001b[0m\u001b[0mself\u001b[0m\u001b[0;34m,\u001b[0m\u001b[0;34m)\u001b[0m\u001b[0;34m,\u001b[0m \u001b[0mself\u001b[0m\u001b[0;34m)\u001b[0m\u001b[0;34m\u001b[0m\u001b[0;34m\u001b[0m\u001b[0m\n",
      "\u001b[0;31mKeyboardInterrupt\u001b[0m: "
     ]
    }
   ],
   "source": [
    "num_episodes = 50\n",
    "for i_episode in range(num_episodes):\n",
    "    # Initialize the environment and state\n",
    "    env.reset()\n",
    "    state = torch.tensor(env.move_car(0,0), device=device,\n",
    "                                     dtype=torch.float)\n",
    "    next_state = torch.tensor(env.move_car(0,0), device=device,\n",
    "                                     dtype=torch.float)\n",
    "    max_t=4000\n",
    "    for t in count():\n",
    "        # Select and perform an action\n",
    "        action = select_action(state)\n",
    "        next_state = torch.tensor(env.move_car(*actions_to_MotorPer[action.item()]), device=device,\n",
    "                                     dtype=torch.float)\n",
    "        \n",
    "        #check if too far off track\n",
    "        done=env.off_track() or t>max_t\n",
    "        #check distance and compute reward\n",
    "        reward = torch.tensor([computeReward(env)], device=device)\n",
    "        \n",
    "        if done:\n",
    "            next_state = None\n",
    "\n",
    "        # Store the transition in memory\n",
    "#         print(\"state\")\n",
    "#         print(state)\n",
    "#         print(\"action\")\n",
    "#         print(action)\n",
    "#         print(\"next_state\")\n",
    "#         print(next_state)\n",
    "#         print(\"reward\")\n",
    "#         print(reward)\n",
    "#         print(\"------------------------------\")\n",
    "        memory.push(state, action, next_state, reward)\n",
    "        \n",
    "        # Move to the next state\n",
    "        state = next_state\n",
    "        #print(f\"carX={env.car.X}, carY={env.car.Y}, t={t}\")\n",
    "        # Perform one step of the optimization (on the policy network)\n",
    "        optimize_model()\n",
    "        if done:\n",
    "            print(\"breaking\")\n",
    "            break\n",
    "            \n",
    "    # Update the target network, copying all weights and biases in DQN\n",
    "    if i_episode % TARGET_UPDATE == 0:\n",
    "        target_net.load_state_dict(policy_net.state_dict())"
   ]
  },
  {
   "cell_type": "code",
   "execution_count": 91,
   "id": "10f6757e",
   "metadata": {},
   "outputs": [
    {
     "data": {
      "image/png": "[encoded data removed]",
      "text/plain": [
       "<Figure size 720x360 with 2 Axes>"
      ]
     },
     "metadata": {
      "needs_background": "light"
     },
     "output_type": "display_data"
    }
   ],
   "source": [
    "env.reset()\n",
    "env.car.set_loc(0,0,15)\n",
    "env.plot()\n",
    "\n",
    "\n",
    "#os.mkdir(\"testImgs2\")"
   ]
  },
  {
   "cell_type": "code",
   "execution_count": 92,
   "id": "39d3fc22",
   "metadata": {},
   "outputs": [],
   "source": [
    "state=torch.tensor(env.move_car(0,0), device=device,\n",
    "                                     dtype=torch.float)"
   ]
  },
  {
   "cell_type": "code",
   "execution_count": 93,
   "id": "8a03f133",
   "metadata": {},
   "outputs": [
    {
     "name": "stderr",
     "output_type": "stream",
     "text": [
      "100%|████████████████████████████████████| 40000/40000 [02:56<00:00, 226.19it/s]\n"
     ]
    }
   ],
   "source": [
    "with torch.no_grad():\n",
    "    for i in tqdm.tqdm(range(40000)):\n",
    "        action = select_action(state,p_random=0)\n",
    "        #print(f\"carX={env.car.X}, carY={env.car.Y}\")\n",
    "        state = torch.tensor(env.move_car(*actions_to_MotorPer[action.item()]), device=device,\n",
    "                                     dtype=torch.float)\n",
    "        \n",
    "        if i%100==0:\n",
    "            env.plot(\"testImgs2\",f\"{i}.png\")"
   ]
  },
  {
   "cell_type": "code",
   "execution_count": 74,
   "id": "5adf8577",
   "metadata": {},
   "outputs": [],
   "source": [
    "import glob\n",
    "from PIL import Image\n",
    "\n",
    "\n"
   ]
  },
  {
   "cell_type": "code",
   "execution_count": 86,
   "id": "1d2195a5",
   "metadata": {},
   "outputs": [],
   "source": [
    "#files=glob.glob(f\"testImgs3/*.png\")"
   ]
  },
  {
   "cell_type": "code",
   "execution_count": 94,
   "id": "48064d1a",
   "metadata": {},
   "outputs": [
    {
     "name": "stderr",
     "output_type": "stream",
     "text": [
      "100%|████████████████████████████████| 40000/40000 [00:00<00:00, 2798161.38it/s]\n"
     ]
    }
   ],
   "source": [
    "images=[]\n",
    "for i in tqdm.tqdm(range(40000)):\n",
    "    if i%1000==0:\n",
    "        images.append(Image.open(f\"testImgs2/{i}.png\"))"
   ]
  },
  {
   "cell_type": "code",
   "execution_count": 95,
   "id": "b7b2123b",
   "metadata": {},
   "outputs": [],
   "source": [
    "frame_one = images[0]\n",
    "frame_one.save(\"my_awesome3.gif\", format=\"GIF\", append_images=images,\n",
    "           save_all=True, duration=100, loop=0)"
   ]
  },
  {
   "cell_type": "code",
   "execution_count": 81,
   "id": "e1110fa8",
   "metadata": {},
   "outputs": [],
   "source": [
    "torch.save(policy_net.state_dict(),\"veryGoodModel!.pt\")"
   ]
  },
  {
   "cell_type": "code",
   "execution_count": null,
   "id": "d97d49cb",
   "metadata": {},
   "outputs": [],
   "source": []
  }
 ],
 "metadata": {
  "kernelspec": {
   "display_name": "Python 3 (ipykernel)",
   "language": "python",
   "name": "python3"
  },
  "language_info": {
   "codemirror_mode": {
    "name": "ipython",
    "version": 3
   },
   "file_extension": ".py",
   "mimetype": "text/x-python",
   "name": "python",
   "nbconvert_exporter": "python",
   "pygments_lexer": "ipython3",
   "version": "3.9.7"
  }
 },
 "nbformat": 4,
 "nbformat_minor": 5
}
