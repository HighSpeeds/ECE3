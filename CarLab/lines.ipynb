{
 "cells": [
  {
   "cell_type": "code",
   "execution_count": 3,
   "id": "f2c71bf9",
   "metadata": {},
   "outputs": [],
   "source": [
    "import numpy as np\n",
    "import matplotlib.pyplot as plt"
   ]
  },
  {
   "cell_type": "code",
   "execution_count": 21,
   "id": "c77d9f60",
   "metadata": {},
   "outputs": [],
   "source": [
    "class Line(object):\n",
    "    def __init__(self,start:tuple,end:tuple):\n",
    "        self.startX=start[0]\n",
    "        self.startY=start[1]\n",
    "        \n",
    "        self.endX=end[0]\n",
    "        self.endY=end[1]\n",
    "        \n",
    "        self.slope=(self.endY-self.startY)/(self.endX-self.startX)\n",
    "        #print(self.slope)\n",
    "    def contains(self,sensor_loc,thresh=10):\n",
    "        \"\"\"\n",
    "        determine whether the sensor array will \"see\" this array\n",
    "        sensor array consists of a section of points, X and Y\n",
    "        \n",
    "        sensor_loc is a dict with 4 values\n",
    "        x1,y1,x2,y2 which define the size and location of the sensor array\n",
    "        \n",
    "        if it does, it returns the location along the array,\n",
    "        otherwise returns None\n",
    "        \"\"\"\n",
    "        #sensor is a line, calculate its slope\n",
    "        sensorSlope=(sensor_loc[\"y2\"]-sensor_loc[\"y1\"])/(sensor_loc[\"x2\"]-sensor_loc[\"x1\"])\n",
    "                                                          \n",
    "        #find the x intercept between these two lines, \n",
    "        #we have sensorSlope*(x-sensor_loc[\"x1\"])+sensor_loc[\"y1\"]=lineSlope(x-startX)+startY\n",
    "                                                         \n",
    "                                                         \n",
    "        x_intercept=(self.startY-sensor_loc[\"y1\"]-self.startX*self.slope+sensor_loc[\"x1\"]*sensorSlope)/\\\n",
    "                                                       (sensorSlope-self.slope)\n",
    "#         print(x_intercept)\n",
    "#         print(sensorSlope*(x_intercept-sensor_loc[\"x1\"])+sensor_loc[\"y1\"])\n",
    "#         print(self.slope*(x_intercept-self.startX)+self.startY)\n",
    "        #if x_intercept is in the correct range\n",
    "        #check if the x_intercept is in the range of this line\n",
    "        if x_intercept<max(self.endX,self.startX) and x_intercept>min(self.endX,self.startX):\n",
    "            if x_intercept<max(sensor_loc[\"x2\"],sensor_loc[\"x1\"]) and x_intercept>min(sensor_loc[\"x2\"],sensor_loc[\"x1\"]):\n",
    "                return x_intercept, sensorSlope*(x_intercept-sensor_loc[\"x1\"])+sensor_loc[\"y1\"]\n",
    "        return None\n",
    "    \n",
    "    def draw(self,ax):\n",
    "        #print([self.startX,self.endX])\n",
    "        plt.plot([self.startX,self.endX],[self.startY,self.endY],color=\"black\")\n",
    "        \n",
    "        \n",
    "        "
   ]
  },
  {
   "cell_type": "code",
   "execution_count": 69,
   "id": "93bb7f16",
   "metadata": {},
   "outputs": [],
   "source": [
    "def make_curve(degrees, r, start_point,n_lines,left=True,start_degree=0):\n",
    "    \"\"\"\n",
    "    draws the curve as a bunch of lines\n",
    "    \"\"\"\n",
    "    if left:\n",
    "        d=np.linspace(np.radians(start_degree),np.radians(degrees+start_degree),n_lines+1)\n",
    "        X=r*(np.cos(d)-np.cos(np.radians(start_degree)))\n",
    "        Y=r*(np.sin(d)-np.sin(np.radians(start_degree)))\n",
    "    else:\n",
    "        #therefore curve right\n",
    "        d=np.linspace(np.pi+np.radians(start_degree),np.radians(180-degrees+start_degree),n_lines+1)\n",
    "        X=r*(np.cos(d)-np.cos(np.radians(start_degree+180)))\n",
    "        Y=r*(np.sin(d)-np.sin(np.radians(start_degree+180)))\n",
    "    #bias to start point\n",
    "    X+=start_point[0]\n",
    "    Y+=start_point[1]\n",
    "    print(X)\n",
    "    \n",
    "    #make lines\n",
    "    lines=[]\n",
    "    for i in range(n_lines):\n",
    "        lines.append(Line([X[i],Y[i]],\n",
    "                     [X[i+1],Y[i+1]]))\n",
    "    return lines\n",
    "    \n",
    "    "
   ]
  },
  {
   "cell_type": "code",
   "execution_count": 70,
   "id": "df6a3062",
   "metadata": {},
   "outputs": [],
   "source": [
    "l=Line((0,1),(4,5))"
   ]
  },
  {
   "cell_type": "code",
   "execution_count": 71,
   "id": "5572d0e2",
   "metadata": {},
   "outputs": [
    {
     "data": {
      "text/plain": [
       "[<matplotlib.lines.Line2D at 0x7f3cc406e5b0>]"
      ]
     },
     "execution_count": 71,
     "metadata": {},
     "output_type": "execute_result"
    },
    {
     "data": {
      "image/png": "[encoded data removed]",
      "text/plain": [
       "<Figure size 432x288 with 1 Axes>"
      ]
     },
     "metadata": {
      "needs_background": "light"
     },
     "output_type": "display_data"
    }
   ],
   "source": [
    "l.draw(plt.gca())\n",
    "plt.plot([0.5,1.5],[3,1.5])"
   ]
  },
  {
   "cell_type": "code",
   "execution_count": 77,
   "id": "685b8928",
   "metadata": {},
   "outputs": [
    {
     "name": "stdout",
     "output_type": "stream",
     "text": [
      "[  0.          -0.01370465  -0.05478105  -0.12311659  -0.21852399\n",
      "  -0.34074174  -0.48943484  -0.66419574  -0.86454542  -1.08993476\n",
      "  -1.33974596  -1.61329432  -1.90983006  -2.22854039  -2.56855175\n",
      "  -2.92893219  -3.30869394  -3.70679609  -4.12214748  -4.55360965\n",
      "  -5.          -5.460095    -5.93263357  -6.4163205   -6.90983006\n",
      "  -7.41180955  -7.92088309  -8.43565535  -8.95471537  -9.47664044\n",
      " -10.        ]\n",
      "[-10.         -11.56434465 -13.09016994 -14.539905   -15.87785252\n",
      " -17.07106781 -18.09016994 -18.91006524 -19.51056516 -19.87688341\n",
      " -20.         -19.87688341 -19.51056516 -18.91006524 -18.09016994\n",
      " -17.07106781 -15.87785252 -14.539905   -13.09016994 -11.56434465\n",
      " -10.        ]\n",
      "[-1.00000000e+01 -8.43565535e+00 -6.90983006e+00 -5.46009500e+00\n",
      " -4.12214748e+00 -2.92893219e+00 -1.90983006e+00 -1.08993476e+00\n",
      " -4.89434837e-01 -1.23116594e-01  1.77635684e-15 -1.23116594e-01\n",
      " -4.89434837e-01 -1.08993476e+00 -1.90983006e+00 -2.92893219e+00\n",
      " -4.12214748e+00 -5.46009500e+00 -6.90983006e+00 -8.43565535e+00\n",
      " -1.00000000e+01]\n",
      "[-10.         -11.56434465 -13.09016994 -14.539905   -15.87785252\n",
      " -17.07106781 -18.09016994 -18.91006524 -19.51056516 -19.87688341\n",
      " -20.         -19.87688341 -19.51056516 -18.91006524 -18.09016994\n",
      " -17.07106781 -15.87785252 -14.539905   -13.09016994 -11.56434465\n",
      " -10.        ]\n"
     ]
    },
    {
     "data": {
      "image/png": "[encoded data removed]",
      "text/plain": [
       "<Figure size 432x288 with 1 Axes>"
      ]
     },
     "metadata": {
      "needs_background": "light"
     },
     "output_type": "display_data"
    }
   ],
   "source": [
    "lines=make_curve(90, 10, start_point=[0,0],n_lines=30,left=True)\n",
    "ax=plt.gca()\n",
    "for l in lines:\n",
    "    l.draw(ax)\n",
    "    \n",
    "lines=make_curve(180, 10, start_point=[-10,10],n_lines=20,left=False,start_degree=90)\n",
    "for l in lines:\n",
    "    l.draw(ax)\n",
    "    \n",
    "lines=make_curve(180, 10, start_point=[-10,30],n_lines=20,left=True,start_degree=270)\n",
    "for l in lines:\n",
    "    l.draw(ax)\n",
    "    \n",
    "lines=make_curve(180, 10, start_point=[-10,50],n_lines=20,left=False,start_degree=90)\n",
    "for l in lines:\n",
    "    l.draw(ax)\n",
    "\n",
    "ax.set_aspect('equal', adjustable='box')"
   ]
  },
  {
   "cell_type": "code",
   "execution_count": null,
   "id": "b2305fdd",
   "metadata": {},
   "outputs": [],
   "source": []
  },
  {
   "cell_type": "code",
   "execution_count": null,
   "id": "d7a0f60f",
   "metadata": {},
   "outputs": [],
   "source": []
  },
  {
   "cell_type": "code",
   "execution_count": 7,
   "id": "59f53b56",
   "metadata": {},
   "outputs": [
    {
     "data": {
      "text/plain": [
       "array([0.        , 0.66666667, 1.33333333, 2.        ])"
      ]
     },
     "execution_count": 7,
     "metadata": {},
     "output_type": "execute_result"
    }
   ],
   "source": [
    "np.linspace(0,2,4)"
   ]
  },
  {
   "cell_type": "code",
   "execution_count": 9,
   "id": "e51f2442",
   "metadata": {},
   "outputs": [
    {
     "data": {
      "text/plain": [
       "0.0"
      ]
     },
     "execution_count": 9,
     "metadata": {},
     "output_type": "execute_result"
    }
   ],
   "source": [
    "np.radians(0)"
   ]
  },
  {
   "cell_type": "code",
   "execution_count": 10,
   "id": "4082f245",
   "metadata": {},
   "outputs": [
    {
     "data": {
      "text/plain": [
       "array([None, None, None, None, None, None, None, None, None, None],\n",
       "      dtype=object)"
      ]
     },
     "execution_count": 10,
     "metadata": {},
     "output_type": "execute_result"
    }
   ],
   "source": [
    "np.empty(10,dtype=Line)"
   ]
  },
  {
   "cell_type": "code",
   "execution_count": null,
   "id": "3d30ba48",
   "metadata": {},
   "outputs": [],
   "source": []
  }
 ],
 "metadata": {
  "kernelspec": {
   "display_name": "Python 3 (ipykernel)",
   "language": "python",
   "name": "python3"
  },
  "language_info": {
   "codemirror_mode": {
    "name": "ipython",
    "version": 3
   },
   "file_extension": ".py",
   "mimetype": "text/x-python",
   "name": "python",
   "nbconvert_exporter": "python",
   "pygments_lexer": "ipython3",
   "version": "3.9.7"
  }
 },
 "nbformat": 4,
 "nbformat_minor": 5
}
