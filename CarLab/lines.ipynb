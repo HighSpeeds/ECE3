{
 "cells": [
  {
   "cell_type": "code",
   "execution_count": 12,
   "id": "f2c71bf9",
   "metadata": {},
   "outputs": [],
   "source": [
    "import numpy as np\n",
    "import matplotlib.pyplot as plt"
   ]
  },
  {
   "cell_type": "code",
   "execution_count": 63,
   "id": "c77d9f60",
   "metadata": {},
   "outputs": [
    {
     "data": {
      "image/png": "[encoded data removed]",
      "text/plain": [
       "<Figure size 432x288 with 1 Axes>"
      ]
     },
     "metadata": {
      "needs_background": "light"
     },
     "output_type": "display_data"
    }
   ],
   "source": [
    "class Line(object):\n",
    "    def __init__(self,start:tuple,end:tuple):\n",
    "        self.startX=start[0]\n",
    "        self.startY=start[1]\n",
    "        \n",
    "        self.endX=end[0]\n",
    "        self.endY=end[1]\n",
    "        \n",
    "        self.slope=(self.endY-self.startY)/(self.endX-self.startX)\n",
    "        print(self.slope)\n",
    "    def contains(self,sensor_loc,thresh=10):\n",
    "        \"\"\"\n",
    "        determine whether the sensor array will \"see\" this array\n",
    "        sensor array consists of a section of points, X and Y\n",
    "        \n",
    "        sensor_loc is a dict with 4 values\n",
    "        x1,y1,x2,y2 which define the size and location of the sensor array\n",
    "        \n",
    "        if it does, it returns the location along the array,\n",
    "        otherwise returns None\n",
    "        \"\"\"\n",
    "        #sensor is a line, calculate its slope\n",
    "        sensorSlope=(sensor_loc[\"y2\"]-sensor_loc[\"y1\"])/(sensor_loc[\"x2\"]-sensor_loc[\"x1\"])\n",
    "                                                          \n",
    "        #find the x intercept between these two lines, \n",
    "        #we have sensorSlope*(x-sensor_loc[\"x1\"])+sensor_loc[\"y1\"]=lineSlope(x-startX)+startY\n",
    "                                                         \n",
    "                                                         \n",
    "        x_intercept=(self.startY-sensor_loc[\"y1\"]-self.startX*self.slope+sensor_loc[\"x1\"]*sensorSlope)/\\\n",
    "                                                       (sensorSlope-self.slope)\n",
    "        print(x_intercept)\n",
    "        print(sensorSlope*(x_intercept-sensor_loc[\"x1\"])+sensor_loc[\"y1\"])\n",
    "        print(self.slope*(x_intercept-self.startX)+self.startY)\n",
    "        #if x_intercept is in the correct range\n",
    "        #check if the x_intercept is in the range of this line\n",
    "        if x_intercept<max(self.endX,self.startX) and x_intercept>min(self.endX,self.startX):\n",
    "            if x_intercept<max(sensor_loc[\"x2\"],sensor_loc[\"x1\"]) and x_intercept>min(sensor_loc[\"x2\"],sensor_loc[\"x1\"]):\n",
    "                return x_intercept, sensorSlope*(x_intercept-sensor_loc[\"x1\"])+sensor_loc[\"y1\"]\n",
    "        return None\n",
    "    \n",
    "    def draw(self,ax=plt.gca()):\n",
    "        print([self.startX,self.endX])\n",
    "        plt.plot([self.startX,self.endX],[self.startY,self.endY])\n",
    "        \n",
    "        "
   ]
  },
  {
   "cell_type": "code",
   "execution_count": 64,
   "id": "df6a3062",
   "metadata": {},
   "outputs": [
    {
     "name": "stdout",
     "output_type": "stream",
     "text": [
      "1.0\n"
     ]
    }
   ],
   "source": [
    "l=Line((0,1),(4,5))"
   ]
  },
  {
   "cell_type": "code",
   "execution_count": 65,
   "id": "5572d0e2",
   "metadata": {},
   "outputs": [
    {
     "name": "stdout",
     "output_type": "stream",
     "text": [
      "[0, 4]\n"
     ]
    },
    {
     "data": {
      "text/plain": [
       "[<matplotlib.lines.Line2D at 0x18951762550>]"
      ]
     },
     "execution_count": 65,
     "metadata": {},
     "output_type": "execute_result"
    },
    {
     "data": {
      "image/png": "[encoded data removed]",
      "text/plain": [
       "<Figure size 432x288 with 1 Axes>"
      ]
     },
     "metadata": {
      "needs_background": "light"
     },
     "output_type": "display_data"
    }
   ],
   "source": [
    "l.draw()\n",
    "plt.plot([0.5,1.5],[3,1.5])"
   ]
  },
  {
   "cell_type": "code",
   "execution_count": 66,
   "id": "685b8928",
   "metadata": {},
   "outputs": [
    {
     "name": "stdout",
     "output_type": "stream",
     "text": [
      "1.1\n",
      "2.0999999999999996\n",
      "2.1\n",
      "(1.1, 2.0999999999999996)\n"
     ]
    }
   ],
   "source": [
    "print(l.contains({\"x1\":0.5,\"x2\":1.5,\n",
    "           \"y1\":3,\"y2\":1.5}))"
   ]
  },
  {
   "cell_type": "code",
   "execution_count": null,
   "id": "b2305fdd",
   "metadata": {},
   "outputs": [],
   "source": []
  },
  {
   "cell_type": "code",
   "execution_count": null,
   "id": "d7a0f60f",
   "metadata": {},
   "outputs": [],
   "source": []
  },
  {
   "cell_type": "code",
   "execution_count": null,
   "id": "59f53b56",
   "metadata": {},
   "outputs": [],
   "source": []
  }
 ],
 "metadata": {
  "kernelspec": {
   "display_name": "Python 3 (ipykernel)",
   "language": "python",
   "name": "python3"
  },
  "language_info": {
   "codemirror_mode": {
    "name": "ipython",
    "version": 3
   },
   "file_extension": ".py",
   "mimetype": "text/x-python",
   "name": "python",
   "nbconvert_exporter": "python",
   "pygments_lexer": "ipython3",
   "version": "3.9.7"
  }
 },
 "nbformat": 4,
 "nbformat_minor": 5
}
