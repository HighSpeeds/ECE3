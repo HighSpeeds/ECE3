{
 "cells": [
  {
   "cell_type": "code",
   "execution_count": 1,
   "id": "ab93e4e7",
   "metadata": {},
   "outputs": [],
   "source": [
    "import numpy as np\n",
    "import matplotlib.pyplot as plt"
   ]
  },
  {
   "cell_type": "code",
   "execution_count": 2,
   "id": "93644f0f",
   "metadata": {},
   "outputs": [],
   "source": [
    "class Sensor:\n",
    "    \"\"\"\n",
    "    one line following sensor, for the purpose of this implementation we are using \n",
    "    basic sensor that will return the square of distance from this sensor to the line\n",
    "    \"\"\"\n",
    "    def __self__(self,model=None\n",
    "                 ,add_noise=0.05 #add 5% noise to the simulated measurments\n",
    "                ):\n",
    "        \n",
    "        self.model=model\n",
    "        self.noise=add_noise\n",
    "        \n",
    "    def value(self,dist):\n",
    "        if model:\n",
    "            return self.model*(1+(1-np.random.random())*2*self.noise)\n",
    "        else:\n",
    "            return dist**2*(1+(1-np.random.random())*2*self.noise)\n",
    "        \n",
    "    def fit(self):\n",
    "        \"\"\"\n",
    "        for fitting, for this I would need data arrrrgh\n",
    "        \"\"\"\n",
    "        pass"
   ]
  },
  {
   "cell_type": "code",
   "execution_count": null,
   "id": "e8829adb",
   "metadata": {},
   "outputs": [],
   "source": [
    "class Line_array:\n",
    "    def __init__(self,start_X,start_Y,length,distance,start_orientation=0):\n",
    "        \"\"\"\n",
    "        start_X, start_Y is the loc of the center of the array\n",
    "        start_orientation, the inital starting orientation\n",
    "        \"\"\"\n",
    "        \n",
    "        self."
   ]
  }
 ],
 "metadata": {
  "kernelspec": {
   "display_name": "Python 3 (ipykernel)",
   "language": "python",
   "name": "python3"
  },
  "language_info": {
   "codemirror_mode": {
    "name": "ipython",
    "version": 3
   },
   "file_extension": ".py",
   "mimetype": "text/x-python",
   "name": "python",
   "nbconvert_exporter": "python",
   "pygments_lexer": "ipython3",
   "version": "3.9.7"
  }
 },
 "nbformat": 4,
 "nbformat_minor": 5
}
