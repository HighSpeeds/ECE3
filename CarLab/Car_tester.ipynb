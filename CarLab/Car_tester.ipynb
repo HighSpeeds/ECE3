{
 "cells": [
  {
   "cell_type": "code",
   "execution_count": 2,
   "id": "a2bb8b65",
   "metadata": {},
   "outputs": [],
   "source": [
    "import numpy as np\n",
    "import matplotlib.pyplot as plt"
   ]
  },
  {
   "cell_type": "code",
   "execution_count": 3,
   "id": "a5c3c138",
   "metadata": {},
   "outputs": [],
   "source": [
    "class Sensor:\n",
    "    \"\"\"\n",
    "    one line following sensor, for the purpose of this implementation we are using \n",
    "    basic sensor that will return the square of distance from this sensor to the line\n",
    "    \"\"\"\n",
    "    def __self__(self,model=None\n",
    "                 ,add_noise=0.05 #add 5% noise to the simulated measurments\n",
    "                ):\n",
    "        \n",
    "        self.model=model\n",
    "        self.noise=add_noise\n",
    "        \n",
    "    def value(self,dist):\n",
    "        if model:\n",
    "            return self.model*(1+(1-np.random.random())*2*self.noise)\n",
    "        else:\n",
    "            return dist**2*(1+(1-np.random.random())*2*self.noise)\n",
    "        \n",
    "    def fit(self):\n",
    "        \"\"\"\n",
    "        for fitting, for this I would need data arrrrgh\n",
    "        \"\"\"\n",
    "        pass\n",
    "    "
   ]
  },
  {
   "cell_type": "code",
   "execution_count": 54,
   "id": "e20d0895",
   "metadata": {},
   "outputs": [],
   "source": [
    "class Sensor_Array:\n",
    "    def __init__(self,sensors,start_X,start_Y,length,start_orientation=0):\n",
    "        \"\"\"\n",
    "        start_X, start_Y is the loc of the center of the array\n",
    "        start_orientation, the inital starting orientation\n",
    "        \"\"\"\n",
    "        \n",
    "        self.X=start_X\n",
    "        self.Y=start_Y\n",
    "        self.orientation=np.radians(start_orientation)\n",
    "        print(self.orientation)\n",
    "        self.sensors=sensors\n",
    "        self.length=length\n",
    "        self.calculateSensorLocs()\n",
    "        \n",
    "        \n",
    "    def calculateSensorLocs(self):\n",
    "        print(np.cos(self.orientation))\n",
    "        self.sensorLocs=np.array([self.X+np.linspace(-self.length/2,self.length/2,len(self.sensors))*np.sin(self.orientation),\n",
    "                                self.Y-np.linspace(-self.length/2,self.length/2,len(self.sensors))*np.cos(self.orientation)]).T\n",
    "        \n",
    "    def get_values(self,line_loc):\n",
    "        distances=np.linalg.norm(self.sensorLocs-line_loc,axis=1)\n",
    "        \n",
    "        sensor_values=np.empty(len(self.sensors))\n",
    "        \n",
    "        for i,d in enumerate(distances):\n",
    "            sensors_values[i]=self.sensors[i].value(d)\n",
    "        return sensor_values\n",
    "    \n",
    "    def update_loc(self,newX,newY,new_orientation):\n",
    "        self.X=newX\n",
    "        self.Y=newY\n",
    "        self.orientation=new_orientation\n",
    "        self.calculateSensorLocs()\n",
    "        \n",
    "    def plot(self,ax,line_color=\"black\",sensor_colors=\"blue\"):\n",
    "        #print(orientation)\n",
    "        for i,sensor_loc in enumerate(self.sensorLocs):\n",
    "            #print(sensor_loc)\n",
    "            ax.plot(sensor_loc[0],sensor_loc[1],\"o\",\n",
    "                    label=f\"sensor{i}\",color=sensor_colors)\n",
    "        ax.plot(self.sensorLocs[:,0],self.sensorLocs[:,1],color=line_color)\n",
    "        "
   ]
  },
  {
   "cell_type": "code",
   "execution_count": 139,
   "id": "112618f7",
   "metadata": {},
   "outputs": [],
   "source": [
    "class Car:\n",
    "    def __init__(self,startX,startY,startOrientation,sensor_array,\n",
    "                motor_dist=10, #distance from the center of the car to the motor, this is a random value rn\n",
    "                mPerToSpeed=1, #motor percentage to speed, this is a random value rn\n",
    "                sensor_array_offest=10 #the offest from the motor centerline to the sensor array in cm, this is a random value rn\n",
    "                ):\n",
    "        \n",
    "        self.X=startX\n",
    "        self.Y=startY ## the X,Y coords of the center of the motor centerline\n",
    "        self.orientation=np.radians(startOrientation)\n",
    "        self.sensor_array=sensor_array\n",
    "        self.sensor_array_offest=sensor_array_offest\n",
    "        self.mPerToSpeed=mPerToSpeed\n",
    "        self.motor_dist=motor_dist\n",
    "        self.calculate_sensorLoc()\n",
    "        \n",
    "    def calculate_sensorLoc(self):\n",
    "        sensorX=self.X+np.cos(self.orientation)*self.sensor_array_offest\n",
    "        sensorY=self.Y+np.sin(self.orientation)*self.sensor_array_offest\n",
    "        self.sensor_array.update_loc(sensorX,sensorY,self.orientation)\n",
    "        \n",
    "        \n",
    "    def move_car(self,leftMotorPercent, \n",
    "                 rightMotorPercent,\n",
    "                 time_step=0.005 #5ms\n",
    "                ):\n",
    "        \n",
    "        #calculate left motor position\n",
    "        leftMotorX=self.X-self.motor_dist*np.sin(self.orientation)\n",
    "        leftMotorY=self.Y+self.motor_dist*np.cos(self.orientation)\n",
    "        #update left motor position (this is an lazy estimation)\n",
    "        leftMotorX+=leftMotorPercent/100*self.mPerToSpeed*np.cos(self.orientation)*time_step\n",
    "        leftMotorY+=leftMotorPercent/100*self.mPerToSpeed*np.sin(self.orientation)*time_step\n",
    "        #print(f\"Left Motor, x={leftMotorX}, y={leftMotorY} leftMotorPercent={leftMotorPercent}\")\n",
    "        \n",
    "        #calculate right motor position\n",
    "        rightMotorX=self.X+self.motor_dist*np.sin(self.orientation)\n",
    "        rightMotorY=self.Y-self.motor_dist*np.cos(self.orientation)\n",
    "        print(f\"Right Motor, x={rightMotorX}, y={rightMotorY} rightMotorPercent={rightMotorPercent}\")\n",
    "        #update motor position\n",
    "        rightMotorX+=rightMotorPercent/100*self.mPerToSpeed*np.cos(self.orientation)*time_step\n",
    "        rightMotorY+=rightMotorPercent/100*self.mPerToSpeed*np.sin(self.orientation)*time_step\n",
    "        #print(f\"Right Motor, x={rightMotorX}, y={rightMotorY} rightMotorPercent={rightMotorPercent}\")\n",
    "        #calculate new centerpoint\n",
    "        self.X=(leftMotorX+rightMotorX)/2\n",
    "        self.Y=(leftMotorY+rightMotorY)/2\n",
    "        \n",
    "        #calculate new orientation\n",
    "        self.orientation+=np.arctan2(rightMotorY-leftMotorY,rightMotorX-leftMotorX)\n",
    "        #print(rightMotorY-leftMotorY)\n",
    "        #print(rightMotorX-leftMotorX)\n",
    "        #print(f\"orientation={self.orientation}\")\n",
    "        #calcluate new sensor array location\n",
    "        self.calculate_sensorLoc()\n",
    "        \n",
    "    def plot_wheel(self,axs,wheel_radius,wheel_loc,wheel_color):\n",
    "        \n",
    "        axs.plot([wheel_loc[0]-wheel_radius*np.cos(self.orientation),\n",
    "                 wheel_loc[0]+wheel_radius*np.cos(self.orientation)],\n",
    "                 [wheel_loc[1]-wheel_radius*np.sin(self.orientation),\n",
    "                 wheel_loc[1]+wheel_radius*np.sin(self.orientation)],color=wheel_color)\n",
    "        \n",
    "    def plot(self,axs,radius=None,wheel_radius=None,car_color=\"black\", \n",
    "             sensor_array_colors={\"line_color\":\"black\",\"sensor_colors\":\"blue\"}):\n",
    "        \n",
    "        if radius==None:\n",
    "            radius=self.motor_dist*1.25\n",
    "        if wheel_radius==None:\n",
    "            wheel_radius=self.motor_dist*0.5\n",
    "        plt.sca(axs)\n",
    "        #print(radius)\n",
    "        axs.add_patch(plt.Circle((self.X, self.Y), radius, edgecolor=car_color))\n",
    "        print(self.orientation)\n",
    "        #calculate left motor position\n",
    "        leftMotorX=self.X-self.motor_dist*np.sin(self.orientation)\n",
    "        leftMotorY=self.Y+self.motor_dist*np.cos(self.orientation)\n",
    "        #plot it\n",
    "        self.plot_wheel(axs,wheel_radius,[leftMotorX,leftMotorY],car_color)\n",
    "        \n",
    "        #calculate right motor position\n",
    "        rightMotorX=self.X+self.motor_dist*np.sin(self.orientation)\n",
    "        rightMotorY=self.Y-self.motor_dist*np.cos(self.orientation)\n",
    "        #plot it\n",
    "        #print([rightMotorX,rightMotorY])\n",
    "        self.plot_wheel(axs,wheel_radius,[rightMotorX,rightMotorY],car_color)\n",
    "        \n",
    "        #plot linear array\n",
    "        self.sensor_array.plot(axs,**sensor_array_colors)\n",
    "        \n",
    "        "
   ]
  },
  {
   "cell_type": "code",
   "execution_count": 140,
   "id": "c0ca5885",
   "metadata": {},
   "outputs": [
    {
     "data": {
      "text/plain": [
       "__main__.Car"
      ]
     },
     "execution_count": 140,
     "metadata": {},
     "output_type": "execute_result"
    }
   ],
   "source": [
    "Car"
   ]
  },
  {
   "cell_type": "code",
   "execution_count": 156,
   "id": "8053b9f5",
   "metadata": {},
   "outputs": [
    {
     "name": "stdout",
     "output_type": "stream",
     "text": [
      "0.0\n",
      "1.0\n",
      "6.123233995736766e-17\n"
     ]
    }
   ],
   "source": [
    "s=Sensor_Array([Sensor(),Sensor(),Sensor(),Sensor(),Sensor()],0,0,10,0)\n",
    "\n",
    "\n",
    "c=Car(0,0,90,s)"
   ]
  },
  {
   "cell_type": "code",
   "execution_count": 157,
   "id": "23f7070d",
   "metadata": {},
   "outputs": [
    {
     "name": "stdout",
     "output_type": "stream",
     "text": [
      "1.5707963267948966\n"
     ]
    },
    {
     "data": {
      "image/png": "[encoded data removed]",
      "text/plain": [
       "<Figure size 432x288 with 1 Axes>"
      ]
     },
     "metadata": {
      "needs_background": "light"
     },
     "output_type": "display_data"
    }
   ],
   "source": [
    "ax=plt.gca()\n",
    "c.plot(ax)\n",
    "ax.set_aspect('equal', adjustable='box')"
   ]
  },
  {
   "cell_type": "code",
   "execution_count": 158,
   "id": "557452c1",
   "metadata": {},
   "outputs": [
    {
     "name": "stdout",
     "output_type": "stream",
     "text": [
      "Left Motor, x=-10.0, y=-0.04999999999999939 leftMotorPercent=-1000\n",
      "Right Motor, x=10.0, y=-6.123233995736766e-16 rightMotorPercent=1000\n",
      "Right Motor, x=10.0, y=0.04999999999999939 rightMotorPercent=1000\n",
      "0.09999999999999878\n",
      "20.0\n",
      "orientation=1.5757962851288547\n",
      "-0.004999937501171632\n",
      "1.5757962851288547\n"
     ]
    },
    {
     "data": {
      "image/png": "[encoded data removed]",
      "text/plain": [
       "<Figure size 432x288 with 1 Axes>"
      ]
     },
     "metadata": {
      "needs_background": "light"
     },
     "output_type": "display_data"
    }
   ],
   "source": [
    "c.move_car(-1000,1000)\n",
    "ax=plt.gca()\n",
    "c.plot(ax)\n",
    "ax.set_aspect('equal', adjustable='box')"
   ]
  },
  {
   "cell_type": "code",
   "execution_count": 159,
   "id": "0ea82bc5",
   "metadata": {},
   "outputs": [
    {
     "data": {
      "text/plain": [
       "<matplotlib.patches.Circle at 0x1dc216f8b80>"
      ]
     },
     "execution_count": 159,
     "metadata": {},
     "output_type": "execute_result"
    }
   ],
   "source": [
    "plt.Circle((0,0),10)"
   ]
  },
  {
   "cell_type": "code",
   "execution_count": 48,
   "id": "d483ce76",
   "metadata": {},
   "outputs": [
    {
     "name": "stdout",
     "output_type": "stream",
     "text": [
      "1.5707963267948966\n",
      "6.123233995736766e-17\n"
     ]
    },
    {
     "data": {
      "image/png": "[encoded data removed]",
      "text/plain": [
       "<Figure size 432x288 with 1 Axes>"
      ]
     },
     "metadata": {
      "needs_background": "light"
     },
     "output_type": "display_data"
    }
   ],
   "source": [
    "s=Sensor_Array([Sensor(),Sensor(),Sensor(),Sensor(),Sensor()],0,0,10,90)\n",
    "s.plot(plt.gca())"
   ]
  },
  {
   "cell_type": "code",
   "execution_count": null,
   "id": "b054b686",
   "metadata": {},
   "outputs": [],
   "source": []
  }
 ],
 "metadata": {
  "kernelspec": {
   "display_name": "Python 3 (ipykernel)",
   "language": "python",
   "name": "python3"
  },
  "language_info": {
   "codemirror_mode": {
    "name": "ipython",
    "version": 3
   },
   "file_extension": ".py",
   "mimetype": "text/x-python",
   "name": "python",
   "nbconvert_exporter": "python",
   "pygments_lexer": "ipython3",
   "version": "3.9.7"
  }
 },
 "nbformat": 4,
 "nbformat_minor": 5
}
