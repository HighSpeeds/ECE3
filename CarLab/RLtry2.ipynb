{
 "cells": [
  {
   "cell_type": "code",
   "execution_count": 2,
   "metadata": {},
   "outputs": [],
   "source": [
    "import serial\n",
    "import numpy as np\n"
   ]
  },
  {
   "cell_type": "code",
   "execution_count": 20,
   "metadata": {},
   "outputs": [
    {
     "name": "stdout",
     "output_type": "stream",
     "text": [
      "\n"
     ]
    }
   ],
   "source": [
    "with serial.Serial('/dev/ttyACM0', 9600, timeout=1) as ser:\n",
    "    t=str(ser.readline().decode())\n",
    "    ser.write(b'test')\n",
    "    print(t)\n",
    "    if t=='test\\r\\n':\n",
    "        ser.write(b'test')\n",
    "        \n",
    "        print(1)"
   ]
  },
  {
   "cell_type": "code",
   "execution_count": 3,
   "metadata": {},
   "outputs": [
    {
     "name": "stdout",
     "output_type": "stream",
     "text": [
      "[]\n",
      "2\n"
     ]
    }
   ],
   "source": [
    "def read1dArraySerial(ser):\n",
    "    t=str(ser.readline().decode())\n",
    "    #split string based of commas\n",
    "    t=t.split(',')\n",
    "    #remove last value\n",
    "    t.pop()\n",
    "    #convert to float\n",
    "    t=[float(i) for i in t]\n",
    "    #convert to numpy array\n",
    "    t=np.array(t)\n",
    "    return t\n",
    "\n",
    "with serial.Serial('/dev/ttyACM0', 9600, timeout=2) as ser:\n",
    "    print(read1dArraySerial(ser))\n",
    "    print(2)"
   ]
  },
  {
   "cell_type": "code",
   "execution_count": 5,
   "metadata": {},
   "outputs": [
    {
     "name": "stdout",
     "output_type": "stream",
     "text": [
      "[[1. 1.]\n",
      " [2. 2.]\n",
      " [3. 3.]\n",
      " [4. 4.]\n",
      " [5. 5.]]\n",
      "2\n"
     ]
    }
   ],
   "source": [
    "def read2dArraySerial(ser):\n",
    "    #read the first line, the shape of the array\n",
    "    shape=str(ser.readline().decode())\n",
    "    shape=shape.split(',')\n",
    "    dim1,dim2=[int(i) for i in shape]\n",
    "    values=[]\n",
    "    #read in the next lines as 1d arrays\n",
    "    for i in range(dim1):\n",
    "        values.append(read1dArraySerial(ser))\n",
    "    #convert to numpy array\n",
    "    values=np.array(values)\n",
    "    return values\n",
    "\n",
    "\n",
    "with serial.Serial('/dev/ttyACM0', 9600, timeout=2) as ser:\n",
    "    arr=read2dArraySerial(ser)\n",
    "    print(arr)\n",
    "    print(2)"
   ]
  },
  {
   "cell_type": "code",
   "execution_count": 31,
   "metadata": {},
   "outputs": [],
   "source": [
    "def Write1dArray(array,ser):\n",
    "    #for every value in array\n",
    "    for i in array:\n",
    "        #write it to serial\n",
    "        ser.write(str(i).encode())\n",
    "        ser.write(b\" \")"
   ]
  },
  {
   "cell_type": "code",
   "execution_count": 15,
   "metadata": {},
   "outputs": [],
   "source": [
    "def read_memory(ser):\n",
    "    #check that the first line is \"memory dump\\r\\n\"\n",
    "    line=ser.readline().decode()\n",
    "    print(line)\n",
    "    line=ser.readline().decode()\n",
    "    if line != \"memory dump\\r\\n\":\n",
    "        print(\"memory dump not found\")\n",
    "        print(\"line is: \"+line)\n",
    "        return False\n",
    "\n",
    "    #read the next line, the number of observations\n",
    "    num_obs=int(str(ser.readline().decode())[:-2])\n",
    "    #read the next line, which should be \"actions\\r\\n\"\n",
    "    if str(ser.readline().decode()) != \"actions\\r\\n\":\n",
    "        print(\"actions not found\")\n",
    "        return False\n",
    "    #read the next line, the array of actions\n",
    "    actions=read1dArraySerial(ser)\n",
    "    #read the next line, which should be \"rewards\\r\\n\"\n",
    "    if str(ser.readline().decode()) != \"rewards\\r\\n\":\n",
    "        print(\"rewards not found\")\n",
    "        return False\n",
    "    #read the next line, the array of rewards\n",
    "    rewards=read1dArraySerial(ser)\n",
    "    #read the next line, which should be \"states:\\r\\n\"\n",
    "    if str(ser.readline().decode()) != \"states:\\r\\n\":\n",
    "        print(\"states not found\")\n",
    "        return False\n",
    "    #read the next lines, which should be the array of states\n",
    "    states=read2dArraySerial(ser)\n",
    "    #read the next line which should \n",
    "    ser.readline()\n",
    "    #read the next line which should be \"done\\r\\n\"\n",
    "    if str(ser.readline().decode()) != \"done\\r\\n\":\n",
    "        print(\"done not found\")\n",
    "        return False\n",
    "    #check the sizes of things being returned\n",
    "    if num_obs != states.shape[0]:\n",
    "        print(\"number of observations does not match\")\n",
    "        return False\n",
    "    if num_obs != actions.shape[0]:\n",
    "        print(\"number of actions does not match\")\n",
    "        return False\n",
    "    if num_obs != rewards.shape[0]:\n",
    "        print(\"number of rewards does not match\")\n",
    "        return False\n",
    "    return num_obs,actions,rewards,states\n"
   ]
  },
  {
   "cell_type": "code",
   "execution_count": 16,
   "metadata": {},
   "outputs": [
    {
     "name": "stdout",
     "output_type": "stream",
     "text": [
      "\n",
      "memory dump not found\n",
      "line is: \n",
      "False\n"
     ]
    }
   ],
   "source": [
    "with serial.Serial('/dev/ttyACM1', 9600, timeout=1) as ser:\n",
    "    print(read_memory(ser))"
   ]
  },
  {
   "cell_type": "code",
   "execution_count": 18,
   "metadata": {},
   "outputs": [
    {
     "ename": "UnicodeDecodeError",
     "evalue": "'utf-8' codec can't decode byte 0x82 in position 0: invalid start byte",
     "output_type": "error",
     "traceback": [
      "\u001b[0;31m---------------------------------------------------------------------------\u001b[0m",
      "\u001b[0;31mUnicodeDecodeError\u001b[0m                        Traceback (most recent call last)",
      "\u001b[1;32m/home/lawrence/Desktop/UCLA/Classes/ECE3/CarLab/RLtry2.ipynb Cell 8'\u001b[0m in \u001b[0;36m<cell line: 1>\u001b[0;34m()\u001b[0m\n\u001b[1;32m      <a href='vscode-notebook-cell:/home/lawrence/Desktop/UCLA/Classes/ECE3/CarLab/RLtry2.ipynb#ch0000007?line=0'>1</a>\u001b[0m \u001b[39mwith\u001b[39;00m serial\u001b[39m.\u001b[39mSerial(\u001b[39m'\u001b[39m\u001b[39m/dev/ttyACM0\u001b[39m\u001b[39m'\u001b[39m, \u001b[39m9600\u001b[39m, timeout\u001b[39m=\u001b[39m\u001b[39m1\u001b[39m) \u001b[39mas\u001b[39;00m ser:\n\u001b[0;32m----> <a href='vscode-notebook-cell:/home/lawrence/Desktop/UCLA/Classes/ECE3/CarLab/RLtry2.ipynb#ch0000007?line=1'>2</a>\u001b[0m     t\u001b[39m=\u001b[39m[i\u001b[39m.\u001b[39mdecode() \u001b[39mfor\u001b[39;00m i \u001b[39min\u001b[39;00m ser\u001b[39m.\u001b[39mreadlines()]\n\u001b[1;32m      <a href='vscode-notebook-cell:/home/lawrence/Desktop/UCLA/Classes/ECE3/CarLab/RLtry2.ipynb#ch0000007?line=2'>3</a>\u001b[0m     \u001b[39mprint\u001b[39m(t)\n",
      "\u001b[1;32m/home/lawrence/Desktop/UCLA/Classes/ECE3/CarLab/RLtry2.ipynb Cell 8'\u001b[0m in \u001b[0;36m<listcomp>\u001b[0;34m(.0)\u001b[0m\n\u001b[1;32m      <a href='vscode-notebook-cell:/home/lawrence/Desktop/UCLA/Classes/ECE3/CarLab/RLtry2.ipynb#ch0000007?line=0'>1</a>\u001b[0m \u001b[39mwith\u001b[39;00m serial\u001b[39m.\u001b[39mSerial(\u001b[39m'\u001b[39m\u001b[39m/dev/ttyACM0\u001b[39m\u001b[39m'\u001b[39m, \u001b[39m9600\u001b[39m, timeout\u001b[39m=\u001b[39m\u001b[39m1\u001b[39m) \u001b[39mas\u001b[39;00m ser:\n\u001b[0;32m----> <a href='vscode-notebook-cell:/home/lawrence/Desktop/UCLA/Classes/ECE3/CarLab/RLtry2.ipynb#ch0000007?line=1'>2</a>\u001b[0m     t\u001b[39m=\u001b[39m[i\u001b[39m.\u001b[39;49mdecode() \u001b[39mfor\u001b[39;00m i \u001b[39min\u001b[39;00m ser\u001b[39m.\u001b[39mreadlines()]\n\u001b[1;32m      <a href='vscode-notebook-cell:/home/lawrence/Desktop/UCLA/Classes/ECE3/CarLab/RLtry2.ipynb#ch0000007?line=2'>3</a>\u001b[0m     \u001b[39mprint\u001b[39m(t)\n",
      "\u001b[0;31mUnicodeDecodeError\u001b[0m: 'utf-8' codec can't decode byte 0x82 in position 0: invalid start byte"
     ]
    }
   ],
   "source": [
    "with serial.Serial('/dev/ttyACM0', 9600, timeout=1) as ser:\n",
    "    t=[i.decode() for i in ser.readlines()]\n",
    "    print(t)"
   ]
  },
  {
   "cell_type": "code",
   "execution_count": 16,
   "metadata": {},
   "outputs": [
    {
     "ename": "IndexError",
     "evalue": "list index out of range",
     "output_type": "error",
     "traceback": [
      "\u001b[0;31m---------------------------------------------------------------------------\u001b[0m",
      "\u001b[0;31mIndexError\u001b[0m                                Traceback (most recent call last)",
      "\u001b[1;32m/home/lawrence/Desktop/UCLA/Classes/ECE3/CarLab/RLtry2.ipynb Cell 9'\u001b[0m in \u001b[0;36m<cell line: 1>\u001b[0;34m()\u001b[0m\n\u001b[0;32m----> <a href='vscode-notebook-cell:/home/lawrence/Desktop/UCLA/Classes/ECE3/CarLab/RLtry2.ipynb#ch0000008?line=0'>1</a>\u001b[0m \u001b[39mtuple\u001b[39m(\u001b[39mint\u001b[39m(i) \u001b[39mfor\u001b[39;00m i \u001b[39min\u001b[39;00m t[\u001b[39m7\u001b[39;49m][:\u001b[39m-\u001b[39m\u001b[39m2\u001b[39m]\u001b[39m.\u001b[39msplit(\u001b[39m'\u001b[39m\u001b[39m,\u001b[39m\u001b[39m'\u001b[39m))\n",
      "\u001b[0;31mIndexError\u001b[0m: list index out of range"
     ]
    }
   ],
   "source": [
    "tuple(int(i) for i in t[7][:-2].split(','))"
   ]
  },
  {
   "cell_type": "code",
   "execution_count": 7,
   "metadata": {},
   "outputs": [
    {
     "ename": "SerialException",
     "evalue": "[Errno 2] could not open port /dev/ttyACM0: [Errno 2] No such file or directory: '/dev/ttyACM0'",
     "output_type": "error",
     "traceback": [
      "\u001b[0;31m---------------------------------------------------------------------------\u001b[0m",
      "\u001b[0;31mFileNotFoundError\u001b[0m                         Traceback (most recent call last)",
      "File \u001b[0;32m~/anaconda3/envs/arduino/lib/python3.8/site-packages/serial/serialposix.py:322\u001b[0m, in \u001b[0;36mSerial.open\u001b[0;34m(self)\u001b[0m\n\u001b[1;32m    <a href='file:///home/lawrence/anaconda3/envs/arduino/lib/python3.8/site-packages/serial/serialposix.py?line=320'>321</a>\u001b[0m \u001b[39mtry\u001b[39;00m:\n\u001b[0;32m--> <a href='file:///home/lawrence/anaconda3/envs/arduino/lib/python3.8/site-packages/serial/serialposix.py?line=321'>322</a>\u001b[0m     \u001b[39mself\u001b[39m\u001b[39m.\u001b[39mfd \u001b[39m=\u001b[39m os\u001b[39m.\u001b[39;49mopen(\u001b[39mself\u001b[39;49m\u001b[39m.\u001b[39;49mportstr, os\u001b[39m.\u001b[39;49mO_RDWR \u001b[39m|\u001b[39;49m os\u001b[39m.\u001b[39;49mO_NOCTTY \u001b[39m|\u001b[39;49m os\u001b[39m.\u001b[39;49mO_NONBLOCK)\n\u001b[1;32m    <a href='file:///home/lawrence/anaconda3/envs/arduino/lib/python3.8/site-packages/serial/serialposix.py?line=322'>323</a>\u001b[0m \u001b[39mexcept\u001b[39;00m \u001b[39mOSError\u001b[39;00m \u001b[39mas\u001b[39;00m msg:\n",
      "\u001b[0;31mFileNotFoundError\u001b[0m: [Errno 2] No such file or directory: '/dev/ttyACM0'",
      "\nDuring handling of the above exception, another exception occurred:\n",
      "\u001b[0;31mSerialException\u001b[0m                           Traceback (most recent call last)",
      "\u001b[1;32m/home/lawrence/Desktop/UCLA/Classes/ECE3/CarLab/RLtry2.ipynb Cell 10'\u001b[0m in \u001b[0;36m<cell line: 10>\u001b[0;34m()\u001b[0m\n\u001b[1;32m      <a href='vscode-notebook-cell:/home/lawrence/Desktop/UCLA/Classes/ECE3/CarLab/RLtry2.ipynb#ch0000009?line=6'>7</a>\u001b[0m             ser\u001b[39m.\u001b[39mwrite(\u001b[39mstr\u001b[39m(array[i,j])\u001b[39m.\u001b[39mencode())\n\u001b[1;32m      <a href='vscode-notebook-cell:/home/lawrence/Desktop/UCLA/Classes/ECE3/CarLab/RLtry2.ipynb#ch0000009?line=7'>8</a>\u001b[0m             ser\u001b[39m.\u001b[39mwrite(\u001b[39mb\u001b[39m\u001b[39m\"\u001b[39m\u001b[39m \u001b[39m\u001b[39m\"\u001b[39m)\n\u001b[0;32m---> <a href='vscode-notebook-cell:/home/lawrence/Desktop/UCLA/Classes/ECE3/CarLab/RLtry2.ipynb#ch0000009?line=9'>10</a>\u001b[0m \u001b[39mwith\u001b[39;00m serial\u001b[39m.\u001b[39;49mSerial(\u001b[39m'\u001b[39;49m\u001b[39m/dev/ttyACM0\u001b[39;49m\u001b[39m'\u001b[39;49m, \u001b[39m9600\u001b[39;49m, timeout\u001b[39m=\u001b[39;49m\u001b[39m2\u001b[39;49m) \u001b[39mas\u001b[39;00m ser:\n\u001b[1;32m     <a href='vscode-notebook-cell:/home/lawrence/Desktop/UCLA/Classes/ECE3/CarLab/RLtry2.ipynb#ch0000009?line=10'>11</a>\u001b[0m     Write2dArray(arr,ser)\n\u001b[1;32m     <a href='vscode-notebook-cell:/home/lawrence/Desktop/UCLA/Classes/ECE3/CarLab/RLtry2.ipynb#ch0000009?line=11'>12</a>\u001b[0m     \u001b[39mprint\u001b[39m(\u001b[39m3\u001b[39m)\n",
      "File \u001b[0;32m~/anaconda3/envs/arduino/lib/python3.8/site-packages/serial/serialutil.py:244\u001b[0m, in \u001b[0;36mSerialBase.__init__\u001b[0;34m(self, port, baudrate, bytesize, parity, stopbits, timeout, xonxoff, rtscts, write_timeout, dsrdtr, inter_byte_timeout, exclusive, **kwargs)\u001b[0m\n\u001b[1;32m    <a href='file:///home/lawrence/anaconda3/envs/arduino/lib/python3.8/site-packages/serial/serialutil.py?line=240'>241</a>\u001b[0m     \u001b[39mraise\u001b[39;00m \u001b[39mValueError\u001b[39;00m(\u001b[39m'\u001b[39m\u001b[39munexpected keyword arguments: \u001b[39m\u001b[39m{!r}\u001b[39;00m\u001b[39m'\u001b[39m\u001b[39m.\u001b[39mformat(kwargs))\n\u001b[1;32m    <a href='file:///home/lawrence/anaconda3/envs/arduino/lib/python3.8/site-packages/serial/serialutil.py?line=242'>243</a>\u001b[0m \u001b[39mif\u001b[39;00m port \u001b[39mis\u001b[39;00m \u001b[39mnot\u001b[39;00m \u001b[39mNone\u001b[39;00m:\n\u001b[0;32m--> <a href='file:///home/lawrence/anaconda3/envs/arduino/lib/python3.8/site-packages/serial/serialutil.py?line=243'>244</a>\u001b[0m     \u001b[39mself\u001b[39;49m\u001b[39m.\u001b[39;49mopen()\n",
      "File \u001b[0;32m~/anaconda3/envs/arduino/lib/python3.8/site-packages/serial/serialposix.py:325\u001b[0m, in \u001b[0;36mSerial.open\u001b[0;34m(self)\u001b[0m\n\u001b[1;32m    <a href='file:///home/lawrence/anaconda3/envs/arduino/lib/python3.8/site-packages/serial/serialposix.py?line=322'>323</a>\u001b[0m \u001b[39mexcept\u001b[39;00m \u001b[39mOSError\u001b[39;00m \u001b[39mas\u001b[39;00m msg:\n\u001b[1;32m    <a href='file:///home/lawrence/anaconda3/envs/arduino/lib/python3.8/site-packages/serial/serialposix.py?line=323'>324</a>\u001b[0m     \u001b[39mself\u001b[39m\u001b[39m.\u001b[39mfd \u001b[39m=\u001b[39m \u001b[39mNone\u001b[39;00m\n\u001b[0;32m--> <a href='file:///home/lawrence/anaconda3/envs/arduino/lib/python3.8/site-packages/serial/serialposix.py?line=324'>325</a>\u001b[0m     \u001b[39mraise\u001b[39;00m SerialException(msg\u001b[39m.\u001b[39merrno, \u001b[39m\"\u001b[39m\u001b[39mcould not open port \u001b[39m\u001b[39m{}\u001b[39;00m\u001b[39m: \u001b[39m\u001b[39m{}\u001b[39;00m\u001b[39m\"\u001b[39m\u001b[39m.\u001b[39mformat(\u001b[39mself\u001b[39m\u001b[39m.\u001b[39m_port, msg))\n\u001b[1;32m    <a href='file:///home/lawrence/anaconda3/envs/arduino/lib/python3.8/site-packages/serial/serialposix.py?line=325'>326</a>\u001b[0m \u001b[39m#~ fcntl.fcntl(self.fd, fcntl.F_SETFL, 0)  # set blocking\u001b[39;00m\n\u001b[1;32m    <a href='file:///home/lawrence/anaconda3/envs/arduino/lib/python3.8/site-packages/serial/serialposix.py?line=327'>328</a>\u001b[0m \u001b[39mself\u001b[39m\u001b[39m.\u001b[39mpipe_abort_read_r, \u001b[39mself\u001b[39m\u001b[39m.\u001b[39mpipe_abort_read_w \u001b[39m=\u001b[39m \u001b[39mNone\u001b[39;00m, \u001b[39mNone\u001b[39;00m\n",
      "\u001b[0;31mSerialException\u001b[0m: [Errno 2] could not open port /dev/ttyACM0: [Errno 2] No such file or directory: '/dev/ttyACM0'"
     ]
    }
   ],
   "source": [
    "def Write2dArray(array,ser):\n",
    "    #for every row\n",
    "    for i in range(array.shape[0]):\n",
    "        #for every value in row\n",
    "        for j in range(array.shape[1]):\n",
    "            #write it to serial\n",
    "            ser.write(str(array[i,j]).encode())\n",
    "            ser.write(b\" \")\n",
    "\n",
    "with serial.Serial('/dev/ttyACM0', 9600, timeout=2) as ser:\n",
    "    Write2dArray(arr,ser)\n",
    "    print(3)"
   ]
  },
  {
   "cell_type": "code",
   "execution_count": 30,
   "metadata": {},
   "outputs": [],
   "source": [
    "with serial.Serial('/dev/ttyACM0', 9600, timeout=2) as ser:\n",
    "    Write1dArray([1,2,3,4,5],ser)"
   ]
  },
  {
   "cell_type": "code",
   "execution_count": 36,
   "metadata": {},
   "outputs": [
    {
     "data": {
      "text/plain": [
       "b'test'"
      ]
     },
     "execution_count": 36,
     "metadata": {},
     "output_type": "execute_result"
    }
   ],
   "source": [
    "(\"test\").encode(\"utf8\")"
   ]
  },
  {
   "cell_type": "code",
   "execution_count": null,
   "metadata": {},
   "outputs": [],
   "source": [
    "def isEven(value):\n",
    "    return value % 2 == 0\n",
    "\n",
    "\n",
    "def isOdd(value):\n",
    "    return value % 2 != 0\n",
    "\n",
    "def isGreaterThan10(value):\n",
    "    return value > 10\n",
    "\n"
   ]
  }
 ],
 "metadata": {
  "interpreter": {
   "hash": "4773b189ce2b60dd5b7a1527274293bef71bf884954f4c9d26eecdb8a75f8514"
  },
  "kernelspec": {
   "display_name": "Python 3.8.13 ('arduino')",
   "language": "python",
   "name": "python3"
  },
  "language_info": {
   "codemirror_mode": {
    "name": "ipython",
    "version": 3
   },
   "file_extension": ".py",
   "mimetype": "text/x-python",
   "name": "python",
   "nbconvert_exporter": "python",
   "pygments_lexer": "ipython3",
   "version": "3.8.13"
  },
  "orig_nbformat": 4
 },
 "nbformat": 4,
 "nbformat_minor": 2
}
