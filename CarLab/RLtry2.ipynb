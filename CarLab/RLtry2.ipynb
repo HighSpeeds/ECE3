{
 "cells": [
  {
   "cell_type": "code",
   "execution_count": 10,
   "metadata": {},
   "outputs": [
    {
     "data": {
      "text/plain": [
       "()"
      ]
     },
     "execution_count": 10,
     "metadata": {},
     "output_type": "execute_result"
    }
   ],
   "source": [
    "import serial\n",
    "import numpy as np\n",
    "/"
   ]
  },
  {
   "cell_type": "code",
   "execution_count": 20,
   "metadata": {},
   "outputs": [
    {
     "name": "stdout",
     "output_type": "stream",
     "text": [
      "\n"
     ]
    }
   ],
   "source": [
    "with serial.Serial('/dev/ttyACM0', 9600, timeout=1) as ser:\n",
    "    t=str(ser.readline().decode())\n",
    "    ser.write(b'test')\n",
    "    print(t)\n",
    "    if t=='test\\r\\n':\n",
    "        ser.write(b'test')\n",
    "        \n",
    "        print(1)"
   ]
  },
  {
   "cell_type": "code",
   "execution_count": 3,
   "metadata": {},
   "outputs": [
    {
     "name": "stdout",
     "output_type": "stream",
     "text": [
      "[]\n",
      "2\n"
     ]
    }
   ],
   "source": [
    "def read1dArraySerial(ser):\n",
    "    t=str(ser.readline().decode())\n",
    "    #split string based of commas\n",
    "    t=t.split(',')\n",
    "    #remove last value\n",
    "    t.pop()\n",
    "    #convert to float\n",
    "    t=[float(i) for i in t]\n",
    "    #convert to numpy array\n",
    "    t=np.array(t)\n",
    "    return t\n",
    "\n",
    "with serial.Serial('/dev/ttyACM0', 9600, timeout=2) as ser:\n",
    "    print(read1dArraySerial(ser))\n",
    "    print(2)"
   ]
  },
  {
   "cell_type": "code",
   "execution_count": 5,
   "metadata": {},
   "outputs": [
    {
     "name": "stdout",
     "output_type": "stream",
     "text": [
      "[[1. 1.]\n",
      " [2. 2.]\n",
      " [3. 3.]\n",
      " [4. 4.]\n",
      " [5. 5.]]\n",
      "2\n"
     ]
    }
   ],
   "source": [
    "def read2dArraySerial(ser):\n",
    "    #read the first line, the shape of the array\n",
    "    shape=str(ser.readline().decode())\n",
    "    shape=shape.split(',')\n",
    "    dim1,dim2=[int(i) for i in shape]\n",
    "    values=[]\n",
    "    #read in the next lines as 1d arrays\n",
    "    for i in range(dim1):\n",
    "        values.append(read1dArraySerial(ser))\n",
    "    #convert to numpy array\n",
    "    values=np.array(values)\n",
    "    return values\n",
    "\n",
    "\n",
    "with serial.Serial('/dev/ttyACM0', 9600, timeout=2) as ser:\n",
    "    arr=read2dArraySerial(ser)\n",
    "    print(arr)\n",
    "    print(2)"
   ]
  },
  {
   "cell_type": "code",
   "execution_count": 31,
   "metadata": {},
   "outputs": [],
   "source": [
    "def Write1dArray(array,ser):\n",
    "    #for every value in array\n",
    "    for i in array:\n",
    "        #write it to serial\n",
    "        ser.write(str(i).encode())\n",
    "        ser.write(b\" \")"
   ]
  },
  {
   "cell_type": "code",
   "execution_count": 32,
   "metadata": {},
   "outputs": [
    {
     "data": {
      "text/plain": [
       "array([[1., 1.],\n",
       "       [2., 2.],\n",
       "       [3., 3.],\n",
       "       [4., 4.],\n",
       "       [5., 5.]])"
      ]
     },
     "execution_count": 32,
     "metadata": {},
     "output_type": "execute_result"
    }
   ],
   "source": [
    "arr"
   ]
  },
  {
   "cell_type": "code",
   "execution_count": 38,
   "metadata": {},
   "outputs": [
    {
     "name": "stdout",
     "output_type": "stream",
     "text": [
      "3\n"
     ]
    }
   ],
   "source": [
    "def Write2dArray(array,ser):\n",
    "    #for every row\n",
    "    for i in range(array.shape[0]):\n",
    "        #for every value in row\n",
    "        for j in range(array.shape[1]):\n",
    "            #write it to serial\n",
    "            ser.write(str(array[i,j]).encode())\n",
    "            ser.write(b\" \")\n",
    "\n",
    "with serial.Serial('/dev/ttyACM0', 9600, timeout=2) as ser:\n",
    "    Write2dArray(arr,ser)\n",
    "    print(3)"
   ]
  },
  {
   "cell_type": "code",
   "execution_count": 30,
   "metadata": {},
   "outputs": [],
   "source": [
    "with serial.Serial('/dev/ttyACM0', 9600, timeout=2) as ser:\n",
    "    Write1dArray([1,2,3,4,5],ser)"
   ]
  },
  {
   "cell_type": "code",
   "execution_count": 36,
   "metadata": {},
   "outputs": [
    {
     "data": {
      "text/plain": [
       "b'test'"
      ]
     },
     "execution_count": 36,
     "metadata": {},
     "output_type": "execute_result"
    }
   ],
   "source": [
    "(\"test\").encode(\"utf8\")"
   ]
  },
  {
   "cell_type": "code",
   "execution_count": null,
   "metadata": {},
   "outputs": [],
   "source": [
    "def isEven(value):\n",
    "    return value % 2 == 0\n",
    "\n",
    "\n",
    "def isOdd(value):\n",
    "    return value % 2 != 0\n",
    "\n",
    "def isGreaterThan10(value):\n",
    "    return value > 10\n",
    "\n"
   ]
  }
 ],
 "metadata": {
  "interpreter": {
   "hash": "4773b189ce2b60dd5b7a1527274293bef71bf884954f4c9d26eecdb8a75f8514"
  },
  "kernelspec": {
   "display_name": "Python 3.8.13 ('arduino')",
   "language": "python",
   "name": "python3"
  },
  "language_info": {
   "codemirror_mode": {
    "name": "ipython",
    "version": 3
   },
   "file_extension": ".py",
   "mimetype": "text/x-python",
   "name": "python",
   "nbconvert_exporter": "python",
   "pygments_lexer": "ipython3",
   "version": "3.8.13"
  },
  "orig_nbformat": 4
 },
 "nbformat": 4,
 "nbformat_minor": 2
}
