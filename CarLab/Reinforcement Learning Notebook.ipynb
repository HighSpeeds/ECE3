{
 "cells": [
  {
   "cell_type": "code",
   "execution_count": 1,
   "id": "673dab6f",
   "metadata": {},
   "outputs": [],
   "source": [
    "from carUtils import *"
   ]
  },
  {
   "cell_type": "code",
   "execution_count": 3,
   "id": "b8f0729c",
   "metadata": {},
   "outputs": [],
   "source": [
    "from linesUtils import *"
   ]
  },
  {
   "cell_type": "code",
   "execution_count": null,
   "id": "d2ec679f",
   "metadata": {},
   "outputs": [],
   "source": [
    "class Enviroment:\n",
    "    def __init__(self,car,line_generator=None):\n",
    "        self.car=car\n",
    "        self.line_generator=line_generator\n",
    "        \n",
    "    def reset(self):\n",
    "        if self.line_generator:\n",
    "            self.lines,self.startX,self.startY,startOrientation,self.endX,self.endY=self.line_generator()\n",
    "        else:\n",
    "            self.lines=[]\n",
    "\n",
    "            self.lines+=make_curve(90, 0.5, start_point=[0,0],n_lines=50,left=True)\n",
    "            self.lines+=make_curve(-90, 0.5, start_point=[0,0],n_lines=10,left=False)\n",
    "            self.startX,self.startY=(0.5,-0.5)\n",
    "            self.endX,self.endY=(-0.5,0.5)\n",
    "            startOrientation=\n",
    "        "
   ]
  }
 ],
 "metadata": {
  "kernelspec": {
   "display_name": "Python 3 (ipykernel)",
   "language": "python",
   "name": "python3"
  },
  "language_info": {
   "codemirror_mode": {
    "name": "ipython",
    "version": 3
   },
   "file_extension": ".py",
   "mimetype": "text/x-python",
   "name": "python",
   "nbconvert_exporter": "python",
   "pygments_lexer": "ipython3",
   "version": "3.9.7"
  }
 },
 "nbformat": 4,
 "nbformat_minor": 5
}
