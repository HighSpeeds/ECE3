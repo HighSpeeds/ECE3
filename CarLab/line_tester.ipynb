{
 "cells": [
  {
   "cell_type": "code",
   "execution_count": 1,
   "id": "ca932f5e",
   "metadata": {},
   "outputs": [],
   "source": [
    "from lines_utils import *"
   ]
  },
  {
   "cell_type": "code",
   "execution_count": 2,
   "id": "34c9480a",
   "metadata": {},
   "outputs": [],
   "source": [
    "import numpy as np\n",
    "import matplotlib.pyplot as plt"
   ]
  },
  {
   "cell_type": "code",
   "execution_count": 3,
   "id": "eeaf7854",
   "metadata": {},
   "outputs": [
    {
     "data": {
      "image/png": "[encoded data removed]",
      "text/plain": [
       "<Figure size 432x288 with 1 Axes>"
      ]
     },
     "metadata": {
      "needs_background": "light"
     },
     "output_type": "display_data"
    }
   ],
   "source": [
    "lines=make_curve(90, 10, start_point=[0,0],n_lines=30,left=True)\n",
    "ax=plt.gca()\n",
    "for l in lines:\n",
    "    l.draw(ax)\n",
    "    \n",
    "lines=make_curve(180, 10, start_point=[-10,10],n_lines=20,left=False,start_degree=90)\n",
    "for l in lines:\n",
    "    l.draw(ax)\n",
    "    \n",
    "lines=make_curve(180, 10, start_point=[-10,30],n_lines=20,left=True,start_degree=270)\n",
    "for l in lines:\n",
    "    l.draw(ax)\n",
    "    \n",
    "lines=make_curve(180, 10, start_point=[-10,50],n_lines=20,left=False,start_degree=90)\n",
    "for l in lines:\n",
    "    l.draw(ax)\n",
    "    \n",
    "ax.set_aspect('equal', adjustable='box')"
   ]
  },
  {
   "cell_type": "code",
   "execution_count": null,
   "id": "8106fb38",
   "metadata": {},
   "outputs": [],
   "source": []
  }
 ],
 "metadata": {
  "kernelspec": {
   "display_name": "Python 3 (ipykernel)",
   "language": "python",
   "name": "python3"
  },
  "language_info": {
   "codemirror_mode": {
    "name": "ipython",
    "version": 3
   },
   "file_extension": ".py",
   "mimetype": "text/x-python",
   "name": "python",
   "nbconvert_exporter": "python",
   "pygments_lexer": "ipython3",
   "version": "3.8.13"
  }
 },
 "nbformat": 4,
 "nbformat_minor": 5
}
