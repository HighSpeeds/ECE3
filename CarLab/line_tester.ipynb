{
 "cells": [
  {
   "cell_type": "code",
   "execution_count": 1,
   "id": "ca932f5e",
   "metadata": {},
   "outputs": [],
   "source": [
    "from lines_utils import *"
   ]
  },
  {
   "cell_type": "code",
   "execution_count": 2,
   "id": "34c9480a",
   "metadata": {},
   "outputs": [],
   "source": [
    "import numpy as np\n",
    "import matplotlib.pyplot as plt"
   ]
  },
  {
   "cell_type": "code",
   "execution_count": 3,
   "id": "eeaf7854",
   "metadata": {},
   "outputs": [
    {
     "data": {
      "image/png": "[encoded data removed]",
      "text/plain": [
       "<Figure size 432x288 with 1 Axes>"
      ]
     },
     "metadata": {
      "needs_background": "light"
     },
     "output_type": "display_data"
    }
   ],
   "source": [
    "lines=make_curve(90, 10, start_point=[0,0],n_lines=30,left=True)\n",
    "ax=plt.gca()\n",
    "for l in lines:\n",
    "    l.draw(ax)\n",
    "    \n",
    "lines=make_curve(180, 10, start_point=[-10,10],n_lines=20,left=False,start_degree=90)\n",
    "for l in lines:\n",
    "    l.draw(ax)\n",
    "    \n",
    "lines=make_curve(180, 10, start_point=[-10,30],n_lines=20,left=True,start_degree=270)\n",
    "for l in lines:\n",
    "    l.draw(ax)\n",
    "    \n",
    "lines=make_curve(180, 10, start_point=[-10,50],n_lines=20,left=False,start_degree=90)\n",
    "for l in lines:\n",
    "    l.draw(ax)\n",
    "    \n",
    "ax.set_aspect('equal', adjustable='box')"
   ]
  },
  {
   "cell_type": "code",
   "execution_count": 5,
   "id": "8106fb38",
   "metadata": {},
   "outputs": [
    {
     "data": {
      "text/plain": [
       "47.98589929991695"
      ]
     },
     "execution_count": 5,
     "metadata": {},
     "output_type": "execute_result"
    }
   ],
   "source": [
    "lines[0].distance(1,1)"
   ]
  },
  {
   "cell_type": "code",
   "execution_count": 6,
   "id": "d3e83252",
   "metadata": {},
   "outputs": [
    {
     "data": {
      "text/plain": [
       "1.5691819145568986"
      ]
     },
     "execution_count": 6,
     "metadata": {},
     "output_type": "execute_result"
    }
   ],
   "source": [
    "lines[0].length"
   ]
  },
  {
   "cell_type": "code",
   "execution_count": 7,
   "id": "7da069c6",
   "metadata": {},
   "outputs": [],
   "source": [
    "l=Line((0,1),(4,5))"
   ]
  },
  {
   "cell_type": "code",
   "execution_count": 10,
   "id": "8f959a03",
   "metadata": {},
   "outputs": [
    {
     "data": {
      "text/plain": [
       "[<matplotlib.lines.Line2D at 0x28e26d92bb0>]"
      ]
     },
     "execution_count": 10,
     "metadata": {},
     "output_type": "execute_result"
    },
    {
     "data": {
      "image/png": "[encoded data removed]",
      "text/plain": [
       "<Figure size 432x288 with 1 Axes>"
      ]
     },
     "metadata": {
      "needs_background": "light"
     },
     "output_type": "display_data"
    }
   ],
   "source": [
    "l.draw(plt.gca())\n",
    "plt.plot(1,1,\"o\")"
   ]
  },
  {
   "cell_type": "code",
   "execution_count": null,
   "id": "de90ba22",
   "metadata": {},
   "outputs": [],
   "source": []
  },
  {
   "cell_type": "code",
   "execution_count": 16,
   "id": "031dac68",
   "metadata": {},
   "outputs": [
    {
     "data": {
      "text/plain": [
       "array([0.70710678, 4.24264069, 0.70710678, 0.70710678])"
      ]
     },
     "execution_count": 16,
     "metadata": {},
     "output_type": "execute_result"
    }
   ],
   "source": [
    "l.distance(np.array([1,2,2,2]),np.array([1,9,2,2]))"
   ]
  },
  {
   "cell_type": "code",
   "execution_count": 12,
   "id": "80099189",
   "metadata": {},
   "outputs": [
    {
     "data": {
      "text/plain": [
       "0.49984899999999993"
      ]
     },
     "execution_count": 12,
     "metadata": {},
     "output_type": "execute_result"
    }
   ],
   "source": [
    "0.707**2"
   ]
  },
  {
   "cell_type": "code",
   "execution_count": null,
   "id": "67bd4d6b",
   "metadata": {},
   "outputs": [],
   "source": []
  }
 ],
 "metadata": {
  "kernelspec": {
   "display_name": "Python 3 (ipykernel)",
   "language": "python",
   "name": "python3"
  },
  "language_info": {
   "codemirror_mode": {
    "name": "ipython",
    "version": 3
   },
   "file_extension": ".py",
   "mimetype": "text/x-python",
   "name": "python",
   "nbconvert_exporter": "python",
   "pygments_lexer": "ipython3",
   "version": "3.9.7"
  }
 },
 "nbformat": 4,
 "nbformat_minor": 5
}
