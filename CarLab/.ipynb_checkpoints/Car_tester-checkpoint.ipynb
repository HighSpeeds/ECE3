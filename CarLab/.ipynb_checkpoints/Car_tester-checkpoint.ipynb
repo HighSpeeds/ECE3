{
 "cells": [
  {
   "cell_type": "code",
   "execution_count": 1,
   "id": "1b8c50e4",
   "metadata": {},
   "outputs": [],
   "source": [
    "import numpy as np\n",
    "import matplotlib.pyplot as plt"
   ]
  },
  {
   "cell_type": "code",
   "execution_count": 2,
   "id": "68dbc243",
   "metadata": {},
   "outputs": [],
   "source": [
    "class Sensor:\n",
    "    \"\"\"\n",
    "    one line following sensor, for the purpose of this implementation we are using \n",
    "    basic sensor that will return the square of distance from this sensor to the line\n",
    "    \"\"\"\n",
    "    def __self__(self,model=None\n",
    "                 ,add_noise=0.05 #add 5% noise to the simulated measurments\n",
    "                ):\n",
    "        \n",
    "        self.model=model\n",
    "        self.noise=add_noise\n",
    "        \n",
    "    def value(self,dist):\n",
    "        if model:\n",
    "            return self.model*(1+(1-np.random.random())*2*self.noise)\n",
    "        else:\n",
    "            return dist**2*(1+(1-np.random.random())*2*self.noise)\n",
    "        \n",
    "    def fit(self):\n",
    "        \"\"\"\n",
    "        for fitting, for this I would need data arrrrgh\n",
    "        \"\"\"\n",
    "        pass"
   ]
  },
  {
   "cell_type": "code",
   "execution_count": null,
   "id": "047112e1",
   "metadata": {},
   "outputs": [],
   "source": [
    "class Sensor_Array:\n",
    "    def __init__(self,sensors,start_X,start_Y,length,start_orientation=0):\n",
    "        \"\"\"\n",
    "        start_X, start_Y is the loc of the center of the array\n",
    "        start_orientation, the inital starting orientation\n",
    "        \"\"\"\n",
    "        \n",
    "        self.X=start_X\n",
    "        self.Y=start_Y\n",
    "        self.orientation=start_orientation\n",
    "        self.sensors=sensors\n",
    "        self.calculateSensorLocs()\n",
    "        \n",
    "        \n",
    "    def calculateSensorLocs(self):\n",
    "        \n",
    "        self.sensorLocs=np.array([np.linspace(-length/2,length/2,len(sensors))*np.cos(self.orientation),\n",
    "                                np.linspace(-length/2,length/2,len(sensors))*np.sin(self.orientation)]).T\n",
    "        \n",
    "    def get_values(self,line_loc):\n",
    "        distances=np.linalg.norm(self.sensorLocs-line_loc,axis=1)\n",
    "        \n",
    "        sensor_values=np.empty(len(self.sensors))\n",
    "        \n",
    "        for i,d in enumerate(distances):\n",
    "            sensors_values[i]=self.sensors[i].value(d)\n",
    "        return sensor_values\n",
    "    \n",
    "    def update_loc(self,newX,newY,new_orientation):\n",
    "        self.X=newX\n",
    "        self.Y=newY\n",
    "        self.orientation=new_orientation\n",
    "        "
   ]
  },
  {
   "cell_type": "code",
   "execution_count": null,
   "id": "aa4cdccb",
   "metadata": {},
   "outputs": [],
   "source": []
  },
  {
   "cell_type": "code",
   "execution_count": 7,
   "id": "be67be88",
   "metadata": {},
   "outputs": [
    {
     "data": {
      "text/plain": [
       "array([2.23606798, 2.23606798])"
      ]
     },
     "execution_count": 7,
     "metadata": {},
     "output_type": "execute_result"
    }
   ],
   "source": [
    "np.linalg.norm(np.array([[1,1],[2,2]]),axis=0)"
   ]
  },
  {
   "cell_type": "code",
   "execution_count": null,
   "id": "093998fa",
   "metadata": {},
   "outputs": [],
   "source": []
  }
 ],
 "metadata": {
  "kernelspec": {
   "display_name": "Python 3 (ipykernel)",
   "language": "python",
   "name": "python3"
  },
  "language_info": {
   "codemirror_mode": {
    "name": "ipython",
    "version": 3
   },
   "file_extension": ".py",
   "mimetype": "text/x-python",
   "name": "python",
   "nbconvert_exporter": "python",
   "pygments_lexer": "ipython3",
   "version": "3.9.7"
  }
 },
 "nbformat": 4,
 "nbformat_minor": 5
}
