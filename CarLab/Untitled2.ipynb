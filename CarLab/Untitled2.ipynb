{
 "cells": [
  {
   "cell_type": "code",
   "execution_count": 1,
   "id": "01db000f",
   "metadata": {},
   "outputs": [],
   "source": [
    "import numpy as np\n",
    "import matplotlib.pyplot as plt\n",
    "import time\n",
    "from carUtils import *\n",
    "\n",
    "from linesUtils import *"
   ]
  },
  {
   "cell_type": "code",
   "execution_count": null,
   "id": "74b01d2a",
   "metadata": {},
   "outputs": [],
   "source": [
    "class Env:\n",
    "    def __init__(self,car,line_generator=None):\n",
    "        \n",
    "        self.car=car\n",
    "        \n",
    "    def reset(self):\n",
    "        \"\"\"\n",
    "        Initalize the lines used, and place the car at the start\n",
    "        maybe randomize the direction\n",
    "        \"\"\"\n",
    "        if self.line_generator:\n",
    "            #line generator still needs to be implemented\n",
    "            pass\n",
    "        \n",
    "        else:\n",
    "            "
   ]
  }
 ],
 "metadata": {
  "kernelspec": {
   "display_name": "Python 3 (ipykernel)",
   "language": "python",
   "name": "python3"
  },
  "language_info": {
   "codemirror_mode": {
    "name": "ipython",
    "version": 3
   },
   "file_extension": ".py",
   "mimetype": "text/x-python",
   "name": "python",
   "nbconvert_exporter": "python",
   "pygments_lexer": "ipython3",
   "version": "3.9.7"
  }
 },
 "nbformat": 4,
 "nbformat_minor": 5
}
