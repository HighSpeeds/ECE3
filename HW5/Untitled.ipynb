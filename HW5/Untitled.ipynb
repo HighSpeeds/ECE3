{
 "cells": [
  {
   "cell_type": "code",
   "execution_count": 36,
   "id": "176e42d3",
   "metadata": {},
   "outputs": [],
   "source": [
    "import numpy as np"
   ]
  },
  {
   "cell_type": "code",
   "execution_count": 37,
   "id": "8a7228e5",
   "metadata": {},
   "outputs": [
    {
     "data": {
      "text/plain": [
       "-100.00000000000001j"
      ]
     },
     "execution_count": 37,
     "metadata": {},
     "output_type": "execute_result"
    }
   ],
   "source": [
    "C=10*10**-6\n",
    "V=10\n",
    "omega=10**3\n",
    "Z_c=1/(1j*C*omega)\n",
    "Z_c"
   ]
  },
  {
   "cell_type": "markdown",
   "id": "3de70c82",
   "metadata": {},
   "source": [
    "# Open Circuit\n",
    "$$4I_x=\\frac{v_1}{Z_c}$$\n",
    "$$10-v_1=50I_x$$\n"
   ]
  },
  {
   "cell_type": "code",
   "execution_count": 46,
   "id": "358ab6f4",
   "metadata": {},
   "outputs": [],
   "source": [
    "v1,Ix=np.dot(np.linalg.inv([[1/Z_c,4],\n",
    "              [1,50]]),[0,10])"
   ]
  },
  {
   "cell_type": "code",
   "execution_count": 50,
   "id": "c1a16292",
   "metadata": {},
   "outputs": [
    {
     "data": {
      "text/plain": [
       "(0.0031-0.0246j)"
      ]
     },
     "execution_count": 50,
     "metadata": {},
     "output_type": "execute_result"
    }
   ],
   "source": [
    "np.round(Ix,4)"
   ]
  },
  {
   "cell_type": "markdown",
   "id": "07139bde",
   "metadata": {},
   "source": [
    "$$V_{oc}=10-(v_1+20\\cdot3I_x)$$ "
   ]
  },
  {
   "cell_type": "code",
   "execution_count": 39,
   "id": "e4a3132b",
   "metadata": {},
   "outputs": [
    {
     "data": {
      "text/plain": [
       "(-0.0308+0.2462j)"
      ]
     },
     "execution_count": 39,
     "metadata": {},
     "output_type": "execute_result"
    }
   ],
   "source": [
    "Voc=10-(v1+20*3*Ix)\n",
    "np.round(Voc,4)"
   ]
  },
  {
   "cell_type": "code",
   "execution_count": 40,
   "id": "a5e6e737",
   "metadata": {},
   "outputs": [
    {
     "data": {
      "text/plain": [
       "0.2480694691784169"
      ]
     },
     "execution_count": 40,
     "metadata": {},
     "output_type": "execute_result"
    }
   ],
   "source": [
    "np.linalg.norm(V_oc)"
   ]
  },
  {
   "cell_type": "code",
   "execution_count": 41,
   "id": "926fcae6",
   "metadata": {},
   "outputs": [
    {
     "data": {
      "text/plain": [
       "(-0.03076923076923066+0.24615384615384617j)"
      ]
     },
     "execution_count": 41,
     "metadata": {},
     "output_type": "execute_result"
    }
   ],
   "source": [
    "V_oc"
   ]
  },
  {
   "cell_type": "code",
   "execution_count": 42,
   "id": "7c6f3e7b",
   "metadata": {},
   "outputs": [
    {
     "data": {
      "text/plain": [
       "0.5396"
      ]
     },
     "execution_count": 42,
     "metadata": {},
     "output_type": "execute_result"
    }
   ],
   "source": [
    "np.round(np.arctan2(np.imag(V_oc),np.real(V_oc))/np.pi,4)"
   ]
  },
  {
   "cell_type": "markdown",
   "id": "b2807dea",
   "metadata": {},
   "source": [
    "# Short Circuit\n",
    "$$I_x=\\frac{10-v_1}{50}$$\n",
    "$$I_x+\\frac{10-v_1}{20}=\\frac{v_1}{Z_c}$$\n"
   ]
  },
  {
   "cell_type": "code",
   "execution_count": 53,
   "id": "14481509",
   "metadata": {},
   "outputs": [
    {
     "data": {
      "text/plain": [
       "(0.004+0.028j)"
      ]
     },
     "execution_count": 53,
     "metadata": {},
     "output_type": "execute_result"
    }
   ],
   "source": [
    "v1=(10/50+10/20)/(1/50+1/20+1/Z_c)\n",
    "Ix=(10-v1)/50\n",
    "\n",
    "np.round(Ix,4)"
   ]
  },
  {
   "cell_type": "markdown",
   "id": "c19856aa",
   "metadata": {},
   "source": [
    "$$Isc=\\frac{10-v_1}{20}-3I_x$$"
   ]
  },
  {
   "cell_type": "code",
   "execution_count": 57,
   "id": "f175e14d",
   "metadata": {},
   "outputs": [
    {
     "data": {
      "text/plain": [
       "(-0.002-0.014j)"
      ]
     },
     "execution_count": 57,
     "metadata": {},
     "output_type": "execute_result"
    }
   ],
   "source": [
    "Isc=(10-v1)/20-3*Ix\n",
    "\n",
    "np.round(Isc,6)"
   ]
  },
  {
   "cell_type": "markdown",
   "id": "9fc4c2ec",
   "metadata": {},
   "source": [
    "# Norton Things"
   ]
  },
  {
   "cell_type": "code",
   "execution_count": 45,
   "id": "d4bb5d60",
   "metadata": {},
   "outputs": [
    {
     "data": {
      "text/plain": [
       "(-16.9231-4.6154j)"
      ]
     },
     "execution_count": 45,
     "metadata": {},
     "output_type": "execute_result"
    }
   ],
   "source": [
    "Rth=Voc/Isc\n",
    "np.round(Rth,4)"
   ]
  },
  {
   "cell_type": "code",
   "execution_count": null,
   "id": "ed9d6b28",
   "metadata": {},
   "outputs": [],
   "source": []
  }
 ],
 "metadata": {
  "kernelspec": {
   "display_name": "Python 3 (ipykernel)",
   "language": "python",
   "name": "python3"
  },
  "language_info": {
   "codemirror_mode": {
    "name": "ipython",
    "version": 3
   },
   "file_extension": ".py",
   "mimetype": "text/x-python",
   "name": "python",
   "nbconvert_exporter": "python",
   "pygments_lexer": "ipython3",
   "version": "3.9.7"
  }
 },
 "nbformat": 4,
 "nbformat_minor": 5
}
