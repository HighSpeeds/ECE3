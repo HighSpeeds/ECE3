{
 "cells": [
  {
   "cell_type": "code",
   "execution_count": 1,
   "id": "176e42d3",
   "metadata": {},
   "outputs": [],
   "source": [
    "import numpy as np"
   ]
  },
  {
   "cell_type": "code",
   "execution_count": 2,
   "id": "8a7228e5",
   "metadata": {},
   "outputs": [
    {
     "data": {
      "text/plain": [
       "-100.00000000000001j"
      ]
     },
     "execution_count": 2,
     "metadata": {},
     "output_type": "execute_result"
    }
   ],
   "source": [
    "C=10*10**-6\n",
    "V=10\n",
    "omega=10**3\n",
    "Z_c=1/(1j*C*omega)\n",
    "Z_c"
   ]
  },
  {
   "cell_type": "markdown",
   "id": "3de70c82",
   "metadata": {},
   "source": [
    "# Open Circuit\n",
    "$$4I_x=\\frac{v_1}{Z_c}$$\n",
    "$$10-v_1=50I_x$$\n"
   ]
  },
  {
   "cell_type": "code",
   "execution_count": 3,
   "id": "358ab6f4",
   "metadata": {},
   "outputs": [],
   "source": [
    "v1,Ix=np.dot(np.linalg.inv([[1/Z_c,-4],\n",
    "              [1,50]]),[0,10])"
   ]
  },
  {
   "cell_type": "code",
   "execution_count": 4,
   "id": "c1a16292",
   "metadata": {},
   "outputs": [
    {
     "data": {
      "text/plain": [
       "(0.0031+0.0246j)"
      ]
     },
     "execution_count": 4,
     "metadata": {},
     "output_type": "execute_result"
    }
   ],
   "source": [
    "np.round(Ix,4)"
   ]
  },
  {
   "cell_type": "code",
   "execution_count": 5,
   "id": "13552212",
   "metadata": {},
   "outputs": [
    {
     "data": {
      "text/plain": [
       "(9.846153846153847-1.2307692307692306j)"
      ]
     },
     "execution_count": 5,
     "metadata": {},
     "output_type": "execute_result"
    }
   ],
   "source": [
    "v1"
   ]
  },
  {
   "cell_type": "markdown",
   "id": "07139bde",
   "metadata": {},
   "source": [
    "$$V_{oc}=10-(v_1+20\\cdot3I_x)$$ "
   ]
  },
  {
   "cell_type": "code",
   "execution_count": 6,
   "id": "e4a3132b",
   "metadata": {},
   "outputs": [
    {
     "data": {
      "text/plain": [
       "(-0.0308-0.2462j)"
      ]
     },
     "execution_count": 6,
     "metadata": {},
     "output_type": "execute_result"
    }
   ],
   "source": [
    "Voc=10-(v1+20*3*Ix)\n",
    "np.round(Voc,4)"
   ]
  },
  {
   "cell_type": "code",
   "execution_count": 11,
   "id": "c62ce7b9",
   "metadata": {},
   "outputs": [
    {
     "data": {
      "text/plain": [
       "0.2481"
      ]
     },
     "execution_count": 11,
     "metadata": {},
     "output_type": "execute_result"
    }
   ],
   "source": [
    "np.round(np.linalg.norm(Voc),4)"
   ]
  },
  {
   "cell_type": "code",
   "execution_count": 13,
   "id": "7c1b14f5",
   "metadata": {},
   "outputs": [
    {
     "data": {
      "text/plain": [
       "-0.5396"
      ]
     },
     "execution_count": 13,
     "metadata": {},
     "output_type": "execute_result"
    }
   ],
   "source": [
    "np.round(np.arctan2(np.imag(Voc),np.real(Voc))/np.pi,4)"
   ]
  },
  {
   "cell_type": "markdown",
   "id": "b2807dea",
   "metadata": {},
   "source": [
    "# Short Circuit\n",
    "$$I_x=\\frac{10-v_1}{50}$$\n",
    "$$I_x+\\frac{10-v_1}{20}=\\frac{v_1}{Z_c}$$\n"
   ]
  },
  {
   "cell_type": "code",
   "execution_count": 9,
   "id": "14481509",
   "metadata": {},
   "outputs": [
    {
     "data": {
      "text/plain": [
       "(0.004+0.028j)"
      ]
     },
     "execution_count": 9,
     "metadata": {},
     "output_type": "execute_result"
    }
   ],
   "source": [
    "v1=(10/50+10/20)/(1/50+1/20+1/Z_c)\n",
    "Ix=(10-v1)/50\n",
    "\n",
    "np.round(Ix,4)"
   ]
  },
  {
   "cell_type": "markdown",
   "id": "c19856aa",
   "metadata": {},
   "source": [
    "$$Isc=\\frac{10-v_1}{20}-3I_x$$"
   ]
  },
  {
   "cell_type": "code",
   "execution_count": 10,
   "id": "f175e14d",
   "metadata": {},
   "outputs": [
    {
     "data": {
      "text/plain": [
       "(-0.002-0.014j)"
      ]
     },
     "execution_count": 10,
     "metadata": {},
     "output_type": "execute_result"
    }
   ],
   "source": [
    "Isc=(10-v1)/20-3*Ix\n",
    "\n",
    "np.round(Isc,6)"
   ]
  },
  {
   "cell_type": "code",
   "execution_count": 20,
   "id": "777a1ddd",
   "metadata": {},
   "outputs": [
    {
     "data": {
      "text/plain": [
       "(10+0j)"
      ]
     },
     "execution_count": 20,
     "metadata": {},
     "output_type": "execute_result"
    }
   ],
   "source": [
    "v1+50*Ix"
   ]
  },
  {
   "cell_type": "code",
   "execution_count": 19,
   "id": "684c9586",
   "metadata": {},
   "outputs": [
    {
     "data": {
      "text/plain": [
       "(10+0j)"
      ]
     },
     "execution_count": 19,
     "metadata": {},
     "output_type": "execute_result"
    }
   ],
   "source": [
    "v1+20*(Isc+3*Ix)"
   ]
  },
  {
   "cell_type": "markdown",
   "id": "9fc4c2ec",
   "metadata": {},
   "source": [
    "# Norton Things"
   ]
  },
  {
   "cell_type": "code",
   "execution_count": 56,
   "id": "d4bb5d60",
   "metadata": {},
   "outputs": [
    {
     "data": {
      "text/plain": [
       "(17.5385+0.3077j)"
      ]
     },
     "execution_count": 56,
     "metadata": {},
     "output_type": "execute_result"
    }
   ],
   "source": [
    "Rth=Voc/Isc\n",
    "np.round(Rth,4)"
   ]
  },
  {
   "cell_type": "code",
   "execution_count": 22,
   "id": "ed9d6b28",
   "metadata": {},
   "outputs": [
    {
     "data": {
      "text/plain": [
       "(-0.002000000000000028-0.013999999999999985j)"
      ]
     },
     "execution_count": 22,
     "metadata": {},
     "output_type": "execute_result"
    }
   ],
   "source": [
    "Isc"
   ]
  },
  {
   "cell_type": "code",
   "execution_count": 23,
   "id": "91cc6d4d",
   "metadata": {},
   "outputs": [
    {
     "data": {
      "text/plain": [
       "(-0.03076923076923066+0.24615384615384617j)"
      ]
     },
     "execution_count": 23,
     "metadata": {},
     "output_type": "execute_result"
    }
   ],
   "source": [
    "Voc"
   ]
  },
  {
   "cell_type": "code",
   "execution_count": 47,
   "id": "e40d5d45",
   "metadata": {},
   "outputs": [],
   "source": [
    "It=(-0.1-0.7j)/50"
   ]
  },
  {
   "cell_type": "code",
   "execution_count": 51,
   "id": "f4bd54d6",
   "metadata": {},
   "outputs": [
    {
     "data": {
      "text/plain": [
       "(-0.03076923076923077-0.24615384615384617j)"
      ]
     },
     "execution_count": 51,
     "metadata": {},
     "output_type": "execute_result"
    }
   ],
   "source": [
    "vt=(-0.5-4j)/16.25\n",
    "vt"
   ]
  },
  {
   "cell_type": "code",
   "execution_count": 49,
   "id": "dfb72d01",
   "metadata": {},
   "outputs": [
    {
     "data": {
      "text/plain": [
       "(-16.92307692307693-4.615384615384648j)"
      ]
     },
     "execution_count": 49,
     "metadata": {},
     "output_type": "execute_result"
    }
   ],
   "source": [
    "Voc/Isc"
   ]
  },
  {
   "cell_type": "code",
   "execution_count": 50,
   "id": "a5ca0fb4",
   "metadata": {},
   "outputs": [
    {
     "data": {
      "text/plain": [
       "(17.53846153846154+0.3076923076923081j)"
      ]
     },
     "execution_count": 50,
     "metadata": {},
     "output_type": "execute_result"
    }
   ],
   "source": [
    "vt/It"
   ]
  },
  {
   "cell_type": "code",
   "execution_count": 38,
   "id": "2dc17c12",
   "metadata": {},
   "outputs": [
    {
     "data": {
      "text/plain": [
       "(-16.92307692307693-4.615384615384647j)"
      ]
     },
     "execution_count": 38,
     "metadata": {},
     "output_type": "execute_result"
    }
   ],
   "source": [
    "(-0.03076923076923066+0.24615384615384617j)/(-0.002000000000000028-0.013999999999999985j)"
   ]
  },
  {
   "cell_type": "code",
   "execution_count": null,
   "id": "79e1f572",
   "metadata": {},
   "outputs": [],
   "source": []
  }
 ],
 "metadata": {
  "kernelspec": {
   "display_name": "Python 3 (ipykernel)",
   "language": "python",
   "name": "python3"
  },
  "language_info": {
   "codemirror_mode": {
    "name": "ipython",
    "version": 3
   },
   "file_extension": ".py",
   "mimetype": "text/x-python",
   "name": "python",
   "nbconvert_exporter": "python",
   "pygments_lexer": "ipython3",
   "version": "3.9.7"
  }
 },
 "nbformat": 4,
 "nbformat_minor": 5
}
