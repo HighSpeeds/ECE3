{
 "cells": [
  {
   "cell_type": "code",
   "execution_count": 1,
   "metadata": {},
   "outputs": [],
   "source": [
    "import numpy as np"
   ]
  },
  {
   "cell_type": "code",
   "execution_count": 4,
   "id": "4c3a06dc",
   "metadata": {},
   "outputs": [],
   "source": [
    "I_x,V=np.dot(np.linalg.inv([[3/2+1,-3/2],\n",
    "            [1,1/5]]),[0,2])"
   ]
  },
  {
   "cell_type": "code",
   "execution_count": 5,
   "id": "83734853",
   "metadata": {},
   "outputs": [
    {
     "data": {
      "text/plain": [
       "1.5"
      ]
     },
     "execution_count": 5,
     "metadata": {},
     "output_type": "execute_result"
    }
   ],
   "source": [
    "(10-V)/5"
   ]
  },
  {
   "cell_type": "code",
   "execution_count": 7,
   "id": "c34604d7",
   "metadata": {},
   "outputs": [
    {
     "data": {
      "text/plain": [
       "0.0"
      ]
     },
     "execution_count": 7,
     "metadata": {},
     "output_type": "execute_result"
    }
   ],
   "source": [
    "(3*I_x-V)/2+I_x-V"
   ]
  },
  {
   "cell_type": "code",
   "execution_count": 8,
   "id": "91c1b6b0",
   "metadata": {},
   "outputs": [
    {
     "data": {
      "text/plain": [
       "5.5"
      ]
     },
     "execution_count": 8,
     "metadata": {},
     "output_type": "execute_result"
    }
   ],
   "source": [
    "10-3*I_x"
   ]
  },
  {
   "cell_type": "code",
   "execution_count": null,
   "id": "62aa049e",
   "metadata": {},
   "outputs": [],
   "source": []
  }
 ],
 "metadata": {
  "interpreter": {
   "hash": "9765603ce97f2a42cb841f1738ff93df698dc4f6fb4ff3dec237220abbbf8f84"
  },
  "kernelspec": {
   "display_name": "Python 3.9.7 ('base')",
   "language": "python",
   "name": "python3"
  },
  "language_info": {
   "codemirror_mode": {
    "name": "ipython",
    "version": 3
   },
   "file_extension": ".py",
   "mimetype": "text/x-python",
   "name": "python",
   "nbconvert_exporter": "python",
   "pygments_lexer": "ipython3",
   "version": "3.9.7"
  }
 },
 "nbformat": 4,
 "nbformat_minor": 5
}
