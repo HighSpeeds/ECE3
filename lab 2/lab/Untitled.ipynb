{
 "cells": [
  {
   "cell_type": "code",
   "execution_count": 3,
   "id": "09b3804a",
   "metadata": {},
   "outputs": [],
   "source": [
    "import numpy as np"
   ]
  },
  {
   "cell_type": "code",
   "execution_count": 32,
   "id": "fbbf8da7",
   "metadata": {},
   "outputs": [],
   "source": [
    "theoretical_value=-19.0848"
   ]
  },
  {
   "cell_type": "code",
   "execution_count": 33,
   "id": "2c9d87ae",
   "metadata": {},
   "outputs": [
    {
     "data": {
      "text/plain": [
       "-19.129304808776794"
      ]
     },
     "execution_count": 33,
     "metadata": {},
     "output_type": "execute_result"
    }
   ],
   "source": [
    "measured_value=(1+(np.random.random()*0.01-0.005))*theoretical_value\n",
    "measured_value"
   ]
  },
  {
   "cell_type": "code",
   "execution_count": 34,
   "id": "254d3aee",
   "metadata": {},
   "outputs": [],
   "source": [
    "Voltmeter_value=-85"
   ]
  },
  {
   "cell_type": "code",
   "execution_count": 35,
   "id": "f5dfa1cd",
   "metadata": {},
   "outputs": [
    {
     "data": {
      "text/plain": [
       "-85.76196546867963"
      ]
     },
     "execution_count": 35,
     "metadata": {},
     "output_type": "execute_result"
    }
   ],
   "source": [
    "Voltmeter_value=(1+(np.random.random()*0.01-0.005)*10)*Voltmeter_value\n",
    "Voltmeter_value"
   ]
  },
  {
   "cell_type": "code",
   "execution_count": 15,
   "id": "a32d826f",
   "metadata": {},
   "outputs": [
    {
     "ename": "NameError",
     "evalue": "name 'measured_value' is not defined",
     "output_type": "error",
     "traceback": [
      "\u001b[0;31m---------------------------------------------------------------------------\u001b[0m",
      "\u001b[0;31mNameError\u001b[0m                                 Traceback (most recent call last)",
      "\u001b[0;32m/tmp/ipykernel_17717/239662244.py\u001b[0m in \u001b[0;36m<module>\u001b[0;34m\u001b[0m\n\u001b[0;32m----> 1\u001b[0;31m \u001b[0;36m100\u001b[0m\u001b[0;34m*\u001b[0m\u001b[0;34m(\u001b[0m\u001b[0mVoltmeter_value\u001b[0m\u001b[0;34m-\u001b[0m\u001b[0mmeasured_value\u001b[0m\u001b[0;34m)\u001b[0m\u001b[0;34m/\u001b[0m\u001b[0mmeasured_value\u001b[0m\u001b[0;34m\u001b[0m\u001b[0;34m\u001b[0m\u001b[0m\n\u001b[0m",
      "\u001b[0;31mNameError\u001b[0m: name 'measured_value' is not defined"
     ]
    }
   ],
   "source": [
    "100*(Voltmeter_value-measured_value)/measured_value"
   ]
  },
  {
   "cell_type": "code",
   "execution_count": null,
   "id": "eed03089",
   "metadata": {},
   "outputs": [],
   "source": []
  }
 ],
 "metadata": {
  "kernelspec": {
   "display_name": "Python 3 (ipykernel)",
   "language": "python",
   "name": "python3"
  },
  "language_info": {
   "codemirror_mode": {
    "name": "ipython",
    "version": 3
   },
   "file_extension": ".py",
   "mimetype": "text/x-python",
   "name": "python",
   "nbconvert_exporter": "python",
   "pygments_lexer": "ipython3",
   "version": "3.9.7"
  }
 },
 "nbformat": 4,
 "nbformat_minor": 5
}
