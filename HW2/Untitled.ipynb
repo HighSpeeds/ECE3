{
 "cells": [
  {
   "cell_type": "code",
   "execution_count": 1,
   "id": "910a3e2c",
   "metadata": {},
   "outputs": [],
   "source": [
    "import numpy as np"
   ]
  },
  {
   "cell_type": "code",
   "execution_count": 20,
   "id": "4274039f",
   "metadata": {},
   "outputs": [],
   "source": [
    "A,B,IR=np.dot(np.linalg.inv([[-1/5,-1/3,0],\n",
    "              [1/14+1/5,-1/14,1],\n",
    "              [1/14,-1/2-1/14-1/3,0]]),[1.7111-6/3-6/5,6/5,-6/3])"
   ]
  },
  {
   "cell_type": "code",
   "execution_count": 1,
   "id": "1e675022",
   "metadata": {},
   "outputs": [
    {
     "data": {
      "text/plain": [
       "[-1.4889, 1.2, -2.0]"
      ]
     },
     "execution_count": 1,
     "metadata": {},
     "output_type": "execute_result"
    }
   ],
   "source": [
    "[1.7111-6/3-6/5,6/5,-6/3]"
   ]
  },
  {
   "cell_type": "code",
   "execution_count": 21,
   "id": "6f972b8d",
   "metadata": {},
   "outputs": [
    {
     "data": {
      "text/plain": [
       "1.7111000000000003"
      ]
     },
     "execution_count": 21,
     "metadata": {},
     "output_type": "execute_result"
    }
   ],
   "source": [
    "(6-B)/3+(6-A)/5"
   ]
  },
  {
   "cell_type": "code",
   "execution_count": 22,
   "id": "bec598f3",
   "metadata": {},
   "outputs": [
    {
     "data": {
      "text/plain": [
       "0.5353906976744185"
      ]
     },
     "execution_count": 22,
     "metadata": {},
     "output_type": "execute_result"
    }
   ],
   "source": [
    "IR+(A-B)/14"
   ]
  },
  {
   "cell_type": "code",
   "execution_count": 23,
   "id": "f78e4f23",
   "metadata": {},
   "outputs": [
    {
     "data": {
      "text/plain": [
       "0.5353906976744189"
      ]
     },
     "execution_count": 23,
     "metadata": {},
     "output_type": "execute_result"
    }
   ],
   "source": [
    "(6-A)/5"
   ]
  },
  {
   "cell_type": "code",
   "execution_count": 24,
   "id": "dae03344",
   "metadata": {},
   "outputs": [
    {
     "data": {
      "text/plain": [
       "1.2364360465116278"
      ]
     },
     "execution_count": 24,
     "metadata": {},
     "output_type": "execute_result"
    }
   ],
   "source": [
    "(A-B)/14+(6-B)/3"
   ]
  },
  {
   "cell_type": "code",
   "execution_count": 25,
   "id": "0996fca6",
   "metadata": {},
   "outputs": [
    {
     "data": {
      "text/plain": [
       "1.236436046511628"
      ]
     },
     "execution_count": 25,
     "metadata": {},
     "output_type": "execute_result"
    }
   ],
   "source": [
    "B/2"
   ]
  },
  {
   "cell_type": "code",
   "execution_count": 27,
   "id": "27ca98ad",
   "metadata": {},
   "outputs": [
    {
     "data": {
      "text/plain": [
       "array([3.323 , 2.4729, 0.4747])"
      ]
     },
     "execution_count": 27,
     "metadata": {},
     "output_type": "execute_result"
    }
   ],
   "source": [
    "np.round([A,B,IR],4)"
   ]
  },
  {
   "cell_type": "code",
   "execution_count": 29,
   "id": "5d2498b7",
   "metadata": {},
   "outputs": [
    {
     "data": {
      "text/plain": [
       "7.000840251732556"
      ]
     },
     "execution_count": 29,
     "metadata": {},
     "output_type": "execute_result"
    }
   ],
   "source": [
    "A/IR"
   ]
  },
  {
   "cell_type": "code",
   "execution_count": 31,
   "id": "8ad813cc",
   "metadata": {},
   "outputs": [],
   "source": [
    "R=(7*14/(21)+5)"
   ]
  },
  {
   "cell_type": "code",
   "execution_count": null,
   "id": "3a4040f7",
   "metadata": {},
   "outputs": [],
   "source": [
    "3."
   ]
  }
 ],
 "metadata": {
  "kernelspec": {
   "display_name": "Python 3 (ipykernel)",
   "language": "python",
   "name": "python3"
  },
  "language_info": {
   "codemirror_mode": {
    "name": "ipython",
    "version": 3
   },
   "file_extension": ".py",
   "mimetype": "text/x-python",
   "name": "python",
   "nbconvert_exporter": "python",
   "pygments_lexer": "ipython3",
   "version": "3.9.7"
  }
 },
 "nbformat": 4,
 "nbformat_minor": 5
}
