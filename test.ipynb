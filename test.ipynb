{
 "cells": [
  {
   "cell_type": "code",
   "execution_count": 129,
   "metadata": {},
   "outputs": [],
   "source": [
    "import serial\n",
    "import time\n",
    "import numpy as np\n",
    "import matplotlib.pyplot as plt"
   ]
  },
  {
   "cell_type": "code",
   "execution_count": 130,
   "metadata": {},
   "outputs": [],
   "source": [
    "values=[]"
   ]
  },
  {
   "cell_type": "code",
   "execution_count": 131,
   "metadata": {},
   "outputs": [
    {
     "ename": "AttributeError",
     "evalue": "'numpy.ndarray' object has no attribute 'append'",
     "output_type": "error",
     "traceback": [
      "\u001b[0;31m---------------------------------------------------------------------------\u001b[0m",
      "\u001b[0;31mAttributeError\u001b[0m                            Traceback (most recent call last)",
      "\u001b[1;32m/home/lawrence/Desktop/UCLA/Classes/ECE3/test.ipynb Cell 3'\u001b[0m in \u001b[0;36m<cell line: 21>\u001b[0;34m()\u001b[0m\n\u001b[1;32m     <a href='vscode-notebook-cell:/home/lawrence/Desktop/UCLA/Classes/ECE3/test.ipynb#ch0000004?line=18'>19</a>\u001b[0m         time\u001b[39m.\u001b[39msleep(\u001b[39m0.05\u001b[39m)\n\u001b[1;32m     <a href='vscode-notebook-cell:/home/lawrence/Desktop/UCLA/Classes/ECE3/test.ipynb#ch0000004?line=19'>20</a>\u001b[0m     ser\u001b[39m.\u001b[39mclose()\n\u001b[0;32m---> <a href='vscode-notebook-cell:/home/lawrence/Desktop/UCLA/Classes/ECE3/test.ipynb#ch0000004?line=20'>21</a>\u001b[0m array\u001b[39m.\u001b[39;49mappend(values)\n",
      "\u001b[0;31mAttributeError\u001b[0m: 'numpy.ndarray' object has no attribute 'append'"
     ]
    }
   ],
   "source": [
    "n_line=250\n",
    "array=np.empty([n_line,8])\n",
    "\n",
    "with serial.Serial('/dev/ttyACM0', 9600, timeout=.1) as ser:\n",
    "    line = ser.readline()   # read a '\\n' terminated line\n",
    "    time.sleep(0.05)\n",
    "    for i in range(n_line):\n",
    "        line = str(ser.readline().decode()).split(',')[:8]\n",
    "        try:\n",
    "            for j in range(8):\n",
    "                line[j]=int(line[j])\n",
    "\n",
    "\n",
    "            #print(line)\n",
    "            array[i]=line\n",
    "\n",
    "        except:\n",
    "            pass\n",
    "        time.sleep(0.05)\n",
    "    ser.close()\n",
    "array.append(values)"
   ]
  },
  {
   "cell_type": "code",
   "execution_count": 132,
   "metadata": {},
   "outputs": [
    {
     "data": {
      "text/plain": [
       "(0.0, 2500.0)"
      ]
     },
     "execution_count": 132,
     "metadata": {},
     "output_type": "execute_result"
    },
    {
     "data": {
      "image/png": "[encoded data removed]",
      "text/plain": [
       "<Figure size 432x288 with 1 Axes>"
      ]
     },
     "metadata": {
      "needs_background": "light"
     },
     "output_type": "display_data"
    }
   ],
   "source": [
    "for i in range(8):\n",
    "    plt.plot(array[:,i])\n",
    "\n",
    "plt.ylim(0,2500)"
   ]
  },
  {
   "cell_type": "code",
   "execution_count": 108,
   "metadata": {},
   "outputs": [
    {
     "data": {
      "text/plain": [
       "array([ 782.,  782.,  782.,  782.,  782.,  782.,  782.,  782.,  782.,\n",
       "        782.,  782.,  782.,  782.,  782.,  782.,  782.,  782.,  782.,\n",
       "        782.,  782.,  782.,  551.,  785.,  785.,  785.,  809.,  809.,\n",
       "        809.,  831., 1038., 1629., 2500., 2500., 2500., 2500., 2500.,\n",
       "       2500., 2500., 2500., 2500., 2500., 2500., 2500., 2500., 2500.,\n",
       "       2500., 2500., 2500., 2500., 2500., 2500., 2500., 2500., 2500.,\n",
       "       2500., 2500., 2500., 2500., 2500., 2500., 2500., 2500., 2500.,\n",
       "       2500., 2500., 2500., 2500., 2500., 2500., 2500., 2500., 2500.,\n",
       "       2500., 2500., 2500., 2500., 2327., 2022., 1767., 1464., 1279.,\n",
       "       1035.,  783.,  783.,  783.,  783.,  783.,  759.,  783.,  783.,\n",
       "        783.,  759.,  759.,  783.,  784.,  783.,  806.,  968., 1422.,\n",
       "       2162.])"
      ]
     },
     "execution_count": 108,
     "metadata": {},
     "output_type": "execute_result"
    }
   ],
   "source": [
    "array[:,i]"
   ]
  },
  {
   "cell_type": "code",
   "execution_count": null,
   "metadata": {},
   "outputs": [],
   "source": []
  }
 ],
 "metadata": {
  "interpreter": {
   "hash": "4773b189ce2b60dd5b7a1527274293bef71bf884954f4c9d26eecdb8a75f8514"
  },
  "kernelspec": {
   "display_name": "Python 3.8.13 ('arduino')",
   "language": "python",
   "name": "python3"
  },
  "language_info": {
   "codemirror_mode": {
    "name": "ipython",
    "version": 3
   },
   "file_extension": ".py",
   "mimetype": "text/x-python",
   "name": "python",
   "nbconvert_exporter": "python",
   "pygments_lexer": "ipython3",
   "version": "3.8.13"
  },
  "orig_nbformat": 4
 },
 "nbformat": 4,
 "nbformat_minor": 2
}
