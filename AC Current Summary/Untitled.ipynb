{
 "cells": [
  {
   "cell_type": "code",
   "execution_count": 1,
   "id": "a9175f09",
   "metadata": {},
   "outputs": [],
   "source": [
    "import numpy as np"
   ]
  },
  {
   "cell_type": "code",
   "execution_count": 4,
   "id": "0bf75ff5",
   "metadata": {},
   "outputs": [],
   "source": [
    "C=25*10**-6\n",
    "L=150*10**-3\n",
    "R1=22\n",
    "R2=100\n",
    "omega=25"
   ]
  },
  {
   "cell_type": "code",
   "execution_count": 5,
   "id": "9c57788a",
   "metadata": {},
   "outputs": [
    {
     "data": {
      "text/plain": [
       "-1600.0000000000002j"
      ]
     },
     "execution_count": 5,
     "metadata": {},
     "output_type": "execute_result"
    }
   ],
   "source": [
    "Zc=1/(1j*omega*C)\n",
    "Zc"
   ]
  },
  {
   "cell_type": "code",
   "execution_count": 7,
   "id": "92402725",
   "metadata": {},
   "outputs": [
    {
     "data": {
      "text/plain": [
       "3.75j"
      ]
     },
     "execution_count": 7,
     "metadata": {},
     "output_type": "execute_result"
    }
   ],
   "source": [
    "Zl=1j*omega*L\n",
    "Zl"
   ]
  },
  {
   "cell_type": "code",
   "execution_count": 10,
   "id": "9a194ced",
   "metadata": {},
   "outputs": [],
   "source": [
    "Ix,Vth=np.dot(np.linalg.inv([[4,1/(Zl+R2)],\n",
    "              [R1*Zc,(R1+Zc)]]),[0,-25j*(R1+Zc)])"
   ]
  },
  {
   "cell_type": "code",
   "execution_count": 11,
   "id": "86e6cd52",
   "metadata": {},
   "outputs": [
    {
     "data": {
      "text/plain": [
       "(0.0027+0.066j)"
      ]
     },
     "execution_count": 11,
     "metadata": {},
     "output_type": "execute_result"
    }
   ],
   "source": [
    "np.round(Ix,4)"
   ]
  },
  {
   "cell_type": "code",
   "execution_count": 12,
   "id": "9d678f98",
   "metadata": {},
   "outputs": [
    {
     "data": {
      "text/plain": [
       "(-0.0788-26.4515j)"
      ]
     },
     "execution_count": 12,
     "metadata": {},
     "output_type": "execute_result"
    }
   ],
   "source": [
    "np.round(Vth,4)"
   ]
  },
  {
   "cell_type": "code",
   "execution_count": 13,
   "id": "c67f2419",
   "metadata": {},
   "outputs": [],
   "source": [
    "Ix=-25j/((R1*Zc)/(R1+Zc))"
   ]
  },
  {
   "cell_type": "code",
   "execution_count": 16,
   "id": "7ab42ade",
   "metadata": {},
   "outputs": [],
   "source": [
    "Ino=np.round(4*Ix,4)"
   ]
  },
  {
   "cell_type": "code",
   "execution_count": 18,
   "id": "33537e78",
   "metadata": {},
   "outputs": [
    {
     "data": {
      "text/plain": [
       "(5.8179-0.0973j)"
      ]
     },
     "execution_count": 18,
     "metadata": {},
     "output_type": "execute_result"
    }
   ],
   "source": [
    "np.round(Vth/Ino,4)"
   ]
  },
  {
   "cell_type": "code",
   "execution_count": null,
   "id": "17b4797c",
   "metadata": {},
   "outputs": [],
   "source": []
  }
 ],
 "metadata": {
  "kernelspec": {
   "display_name": "Python 3 (ipykernel)",
   "language": "python",
   "name": "python3"
  },
  "language_info": {
   "codemirror_mode": {
    "name": "ipython",
    "version": 3
   },
   "file_extension": ".py",
   "mimetype": "text/x-python",
   "name": "python",
   "nbconvert_exporter": "python",
   "pygments_lexer": "ipython3",
   "version": "3.9.7"
  }
 },
 "nbformat": 4,
 "nbformat_minor": 5
}
